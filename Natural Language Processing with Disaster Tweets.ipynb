{
 "cells": [
  {
   "cell_type": "markdown",
   "id": "0a2be1c7",
   "metadata": {},
   "source": [
    "# <center>Natural Language Processing with Disaster Tweets<center>"
   ]
  },
  {
   "cell_type": "markdown",
   "id": "70c8c197",
   "metadata": {},
   "source": [
    "O objetivo deste trabalho é apresentar a minha solução para a competição Natural Language Processing with Disaster Tweets.\n",
    "\n",
    "<p style='text-align: justify;'>A imensa maioria das soluções vencedoras dessa competição utilizam redes neurais, porém nesse trabalho busco apresentar uma solução que atinge bom desempenho utilizando apenas o modelo Multinomial Naive Bayes. Além disso como estratégia para o processamento de texto utilizarei a abordagem Bag of Words (CountVectorizer) que pareceu nos conduzir a melhores resultados do que a abordagem TfidfVectorizer."
   ]
  },
  {
   "cell_type": "markdown",
   "id": "7f594160",
   "metadata": {},
   "source": [
    "Mais informações sobre a competição em https://www.kaggle.com/competitions/nlp-getting-started/overview"
   ]
  },
  {
   "cell_type": "code",
   "execution_count": 1,
   "id": "7e7b08a1",
   "metadata": {},
   "outputs": [],
   "source": [
    "# Algumas importações básicas\n",
    "\n",
    "import numpy as np\n",
    "import matplotlib.pyplot as plt\n",
    "import pandas as pd\n",
    "import spacy\n",
    "from nltk.corpus import stopwords\n",
    "from sklearn.feature_extraction.text import CountVectorizer\n",
    "from sklearn.naive_bayes import MultinomialNB\n",
    "from sklearn.model_selection import train_test_split , KFold\n",
    "from sklearn.metrics import f1_score\n",
    "from IPython.display import Image"
   ]
  },
  {
   "cell_type": "markdown",
   "id": "31cdb9a7",
   "metadata": {},
   "source": [
    "## Leitura dos Arquivos de Treino e Teste"
   ]
  },
  {
   "cell_type": "code",
   "execution_count": 2,
   "id": "d0aaf8bd",
   "metadata": {},
   "outputs": [],
   "source": [
    "train = pd.read_csv('train_tweet.csv')\n",
    "test = pd.read_csv('test_tweet.csv')"
   ]
  },
  {
   "cell_type": "code",
   "execution_count": 3,
   "id": "ef06c7c7",
   "metadata": {},
   "outputs": [
    {
     "data": {
      "text/plain": [
       "(7613, 5)"
      ]
     },
     "execution_count": 3,
     "metadata": {},
     "output_type": "execute_result"
    }
   ],
   "source": [
    "# Dimensões do Dataset de Treino\n",
    "\n",
    "train.shape"
   ]
  },
  {
   "cell_type": "code",
   "execution_count": 4,
   "id": "129f56aa",
   "metadata": {},
   "outputs": [
    {
     "data": {
      "text/plain": [
       "(3263, 4)"
      ]
     },
     "execution_count": 4,
     "metadata": {},
     "output_type": "execute_result"
    }
   ],
   "source": [
    "# Dimensões do Dataset de Teste\n",
    "\n",
    "test.shape"
   ]
  },
  {
   "cell_type": "code",
   "execution_count": 5,
   "id": "39fba430",
   "metadata": {},
   "outputs": [
    {
     "data": {
      "text/html": [
       "<div>\n",
       "<style scoped>\n",
       "    .dataframe tbody tr th:only-of-type {\n",
       "        vertical-align: middle;\n",
       "    }\n",
       "\n",
       "    .dataframe tbody tr th {\n",
       "        vertical-align: top;\n",
       "    }\n",
       "\n",
       "    .dataframe thead th {\n",
       "        text-align: right;\n",
       "    }\n",
       "</style>\n",
       "<table border=\"1\" class=\"dataframe\">\n",
       "  <thead>\n",
       "    <tr style=\"text-align: right;\">\n",
       "      <th></th>\n",
       "      <th>id</th>\n",
       "      <th>keyword</th>\n",
       "      <th>location</th>\n",
       "      <th>text</th>\n",
       "      <th>target</th>\n",
       "    </tr>\n",
       "  </thead>\n",
       "  <tbody>\n",
       "    <tr>\n",
       "      <th>0</th>\n",
       "      <td>1</td>\n",
       "      <td>NaN</td>\n",
       "      <td>NaN</td>\n",
       "      <td>Our Deeds are the Reason of this #earthquake M...</td>\n",
       "      <td>1</td>\n",
       "    </tr>\n",
       "    <tr>\n",
       "      <th>1</th>\n",
       "      <td>4</td>\n",
       "      <td>NaN</td>\n",
       "      <td>NaN</td>\n",
       "      <td>Forest fire near La Ronge Sask. Canada</td>\n",
       "      <td>1</td>\n",
       "    </tr>\n",
       "    <tr>\n",
       "      <th>2</th>\n",
       "      <td>5</td>\n",
       "      <td>NaN</td>\n",
       "      <td>NaN</td>\n",
       "      <td>All residents asked to 'shelter in place' are ...</td>\n",
       "      <td>1</td>\n",
       "    </tr>\n",
       "    <tr>\n",
       "      <th>3</th>\n",
       "      <td>6</td>\n",
       "      <td>NaN</td>\n",
       "      <td>NaN</td>\n",
       "      <td>13,000 people receive #wildfires evacuation or...</td>\n",
       "      <td>1</td>\n",
       "    </tr>\n",
       "    <tr>\n",
       "      <th>4</th>\n",
       "      <td>7</td>\n",
       "      <td>NaN</td>\n",
       "      <td>NaN</td>\n",
       "      <td>Just got sent this photo from Ruby #Alaska as ...</td>\n",
       "      <td>1</td>\n",
       "    </tr>\n",
       "  </tbody>\n",
       "</table>\n",
       "</div>"
      ],
      "text/plain": [
       "   id keyword location                                               text  \\\n",
       "0   1     NaN      NaN  Our Deeds are the Reason of this #earthquake M...   \n",
       "1   4     NaN      NaN             Forest fire near La Ronge Sask. Canada   \n",
       "2   5     NaN      NaN  All residents asked to 'shelter in place' are ...   \n",
       "3   6     NaN      NaN  13,000 people receive #wildfires evacuation or...   \n",
       "4   7     NaN      NaN  Just got sent this photo from Ruby #Alaska as ...   \n",
       "\n",
       "   target  \n",
       "0       1  \n",
       "1       1  \n",
       "2       1  \n",
       "3       1  \n",
       "4       1  "
      ]
     },
     "execution_count": 5,
     "metadata": {},
     "output_type": "execute_result"
    }
   ],
   "source": [
    "# Observando as 5 primeiras linhas do Dataset de treino\n",
    "\n",
    "train.head()"
   ]
  },
  {
   "cell_type": "code",
   "execution_count": 6,
   "id": "9900bba1",
   "metadata": {},
   "outputs": [
    {
     "data": {
      "text/plain": [
       "id           int64\n",
       "keyword     object\n",
       "location    object\n",
       "text        object\n",
       "target       int64\n",
       "dtype: object"
      ]
     },
     "execution_count": 6,
     "metadata": {},
     "output_type": "execute_result"
    }
   ],
   "source": [
    "# Tipos de dados\n",
    "\n",
    "train.dtypes"
   ]
  },
  {
   "cell_type": "code",
   "execution_count": 7,
   "id": "720c810d",
   "metadata": {},
   "outputs": [
    {
     "data": {
      "text/plain": [
       "42.96597924602653"
      ]
     },
     "execution_count": 7,
     "metadata": {},
     "output_type": "execute_result"
    }
   ],
   "source": [
    "# % de Disastres Reais no Dataset de Treino\n",
    "\n",
    "(train['target'].sum()/train['target'].count())*100"
   ]
  },
  {
   "cell_type": "code",
   "execution_count": 8,
   "id": "83cb39b7",
   "metadata": {},
   "outputs": [
    {
     "data": {
      "text/plain": [
       "id             0\n",
       "keyword       61\n",
       "location    2533\n",
       "text           0\n",
       "target         0\n",
       "dtype: int64"
      ]
     },
     "execution_count": 8,
     "metadata": {},
     "output_type": "execute_result"
    }
   ],
   "source": [
    "train.isnull().sum()"
   ]
  },
  {
   "cell_type": "code",
   "execution_count": 9,
   "id": "755afe9c",
   "metadata": {},
   "outputs": [
    {
     "data": {
      "text/plain": [
       "id             0\n",
       "keyword       26\n",
       "location    1105\n",
       "text           0\n",
       "dtype: int64"
      ]
     },
     "execution_count": 9,
     "metadata": {},
     "output_type": "execute_result"
    }
   ],
   "source": [
    "test.isnull().sum()"
   ]
  },
  {
   "cell_type": "markdown",
   "id": "43276cc7",
   "metadata": {},
   "source": [
    "Em nossa modelagem observamos que incluir as variáveis \"keyword\" e \"location\" nos modelos nos traz resultados piores, portanto faremos apenas o pré-processamento da variável \"text\". Sendo assim não nos preocuparemos em lidar com os valores ausente das variáveis \"keyword\" e 'location'."
   ]
  },
  {
   "cell_type": "markdown",
   "id": "47dc69b1",
   "metadata": {},
   "source": [
    "## Pré-processamento de Texto"
   ]
  },
  {
   "cell_type": "markdown",
   "id": "77714384",
   "metadata": {},
   "source": [
    "Criando uma função que recebe uma string e retorna uma string composta apenas por palavras compostas somente por caracteres alfabéticos (letras de \"a\" a \"z\"). Além disso essa função aplica a Lemmatização."
   ]
  },
  {
   "cell_type": "code",
   "execution_count": 10,
   "id": "32c0566d",
   "metadata": {},
   "outputs": [],
   "source": [
    "nlp = spacy.load('en_core_web_sm')"
   ]
  },
  {
   "cell_type": "code",
   "execution_count": 11,
   "id": "4e11ac4d",
   "metadata": {},
   "outputs": [],
   "source": [
    "def text_preprocessing(string):\n",
    "    doc = nlp(string)\n",
    "    \n",
    "    doc2 = \" \".join([str(token) for token in doc if str(token).isalpha()])\n",
    "    \n",
    "    doc3 = nlp(doc2)\n",
    "    \n",
    "    return \" \".join([token.lemma_ for token in doc3])"
   ]
  },
  {
   "cell_type": "markdown",
   "id": "d190e7c1",
   "metadata": {},
   "source": [
    "Criando a coluna \"pre-processed text\" nos datasets de treino e de teste. Essa coluna é resultado do pré-processamento dos textos presentes na coluna \"text\" através da função text_preprocessing."
   ]
  },
  {
   "cell_type": "code",
   "execution_count": 12,
   "id": "913fb4e0",
   "metadata": {},
   "outputs": [],
   "source": [
    "train['pre-processed text'] = train['text'].apply(text_preprocessing)\n",
    "\n",
    "test['pre-processed text'] = test['text'].apply(text_preprocessing)"
   ]
  },
  {
   "cell_type": "code",
   "execution_count": 13,
   "id": "49fc96ac",
   "metadata": {},
   "outputs": [
    {
     "data": {
      "text/html": [
       "<div>\n",
       "<style scoped>\n",
       "    .dataframe tbody tr th:only-of-type {\n",
       "        vertical-align: middle;\n",
       "    }\n",
       "\n",
       "    .dataframe tbody tr th {\n",
       "        vertical-align: top;\n",
       "    }\n",
       "\n",
       "    .dataframe thead th {\n",
       "        text-align: right;\n",
       "    }\n",
       "</style>\n",
       "<table border=\"1\" class=\"dataframe\">\n",
       "  <thead>\n",
       "    <tr style=\"text-align: right;\">\n",
       "      <th></th>\n",
       "      <th>text</th>\n",
       "      <th>pre-processed text</th>\n",
       "    </tr>\n",
       "  </thead>\n",
       "  <tbody>\n",
       "    <tr>\n",
       "      <th>0</th>\n",
       "      <td>Our Deeds are the Reason of this #earthquake M...</td>\n",
       "      <td>our deed be the Reason of this earthquake may ...</td>\n",
       "    </tr>\n",
       "    <tr>\n",
       "      <th>1</th>\n",
       "      <td>Forest fire near La Ronge Sask. Canada</td>\n",
       "      <td>forest fire near La Ronge Sask Canada</td>\n",
       "    </tr>\n",
       "    <tr>\n",
       "      <th>2</th>\n",
       "      <td>All residents asked to 'shelter in place' are ...</td>\n",
       "      <td>all resident ask to shelter in place be be not...</td>\n",
       "    </tr>\n",
       "    <tr>\n",
       "      <th>3</th>\n",
       "      <td>13,000 people receive #wildfires evacuation or...</td>\n",
       "      <td>people receive wildfire evacuation order in Ca...</td>\n",
       "    </tr>\n",
       "    <tr>\n",
       "      <th>4</th>\n",
       "      <td>Just got sent this photo from Ruby #Alaska as ...</td>\n",
       "      <td>just got send this photo from Ruby Alaska as s...</td>\n",
       "    </tr>\n",
       "  </tbody>\n",
       "</table>\n",
       "</div>"
      ],
      "text/plain": [
       "                                                text  \\\n",
       "0  Our Deeds are the Reason of this #earthquake M...   \n",
       "1             Forest fire near La Ronge Sask. Canada   \n",
       "2  All residents asked to 'shelter in place' are ...   \n",
       "3  13,000 people receive #wildfires evacuation or...   \n",
       "4  Just got sent this photo from Ruby #Alaska as ...   \n",
       "\n",
       "                                  pre-processed text  \n",
       "0  our deed be the Reason of this earthquake may ...  \n",
       "1              forest fire near La Ronge Sask Canada  \n",
       "2  all resident ask to shelter in place be be not...  \n",
       "3  people receive wildfire evacuation order in Ca...  \n",
       "4  just got send this photo from Ruby Alaska as s...  "
      ]
     },
     "execution_count": 13,
     "metadata": {},
     "output_type": "execute_result"
    }
   ],
   "source": [
    "# Dando uma olhada no resultado do pré-processamento\n",
    "\n",
    "train[['text' , 'pre-processed text']].head()"
   ]
  },
  {
   "cell_type": "markdown",
   "id": "f4d5bbcc",
   "metadata": {},
   "source": [
    "## Validação Cruzada"
   ]
  },
  {
   "cell_type": "code",
   "execution_count": 14,
   "id": "46eb9032",
   "metadata": {},
   "outputs": [],
   "source": [
    "# Instanciando o modelo Multinomial Naive-Bayes\n",
    "\n",
    "model = MultinomialNB()      "
   ]
  },
  {
   "cell_type": "code",
   "execution_count": 15,
   "id": "909865ef",
   "metadata": {},
   "outputs": [],
   "source": [
    "vectorizer = CountVectorizer(lowercase = True , stop_words = 'english')"
   ]
  },
  {
   "cell_type": "code",
   "execution_count": 16,
   "id": "4ca4a674",
   "metadata": {},
   "outputs": [],
   "source": [
    "X = np.array(train['pre-processed text'])\n",
    "y = np.array(train['target'])"
   ]
  },
  {
   "cell_type": "code",
   "execution_count": 17,
   "id": "fddfa7fc",
   "metadata": {},
   "outputs": [],
   "source": [
    "# Dividindo o Dataset de treino para a validação cruzada\n",
    "\n",
    "X_train , X_test , y_train , y_test = train_test_split(X , y , test_size = 0.3 , stratify = y , random_state = 12)"
   ]
  },
  {
   "cell_type": "code",
   "execution_count": 18,
   "id": "9410901f",
   "metadata": {},
   "outputs": [],
   "source": [
    "kf = KFold(n_splits = 10 , shuffle = True , random_state = 451)"
   ]
  },
  {
   "cell_type": "code",
   "execution_count": 19,
   "id": "4c1e08f8",
   "metadata": {},
   "outputs": [
    {
     "data": {
      "text/plain": [
       "0.7463347863068382"
      ]
     },
     "execution_count": 19,
     "metadata": {},
     "output_type": "execute_result"
    }
   ],
   "source": [
    "# Obtendo a média dos 10 scores de validação cruzada de acordo com a métrica f1\n",
    "\n",
    "scores = []\n",
    "for train_index , test_index in kf.split(X):\n",
    "        X_train = X[train_index]\n",
    "        X_test = X[test_index]\n",
    "        y_train = y[train_index]\n",
    "        y_test = y[test_index]\n",
    "        bow_train = vectorizer.fit_transform(X_train)\n",
    "        bow_test = vectorizer.transform(X_test)\n",
    "        model.fit(bow_train , y_train)\n",
    "        pred = model.predict(bow_test)\n",
    "        scores.append(f1_score(y_test , pred))\n",
    "np.mean(scores)"
   ]
  },
  {
   "cell_type": "markdown",
   "id": "64ea008e",
   "metadata": {},
   "source": [
    "<p style='text-align: justify;'>Um score de 74,63 % é um excelente score de validação cruzada. Ao treinarmos nossa Bag of Words em todo o conjunto de treino o vocabulário obtido será maior e ,por isso, a chance de obtermos um resultado melhor quando submetermos ao Kaggle é grande. Vamos ver qual score obtemos no Kaggle ao submetermos as previsões de um modelo Multinomial Naive-Bayes com a configuração padrão do Scikit-Learn :"
   ]
  },
  {
   "cell_type": "markdown",
   "id": "f3c262d9",
   "metadata": {},
   "source": [
    "## Primeira Submissão ao Kaggle"
   ]
  },
  {
   "cell_type": "code",
   "execution_count": 20,
   "id": "07a6920d",
   "metadata": {},
   "outputs": [],
   "source": [
    "bow_train = vectorizer.fit_transform(X)\n",
    "\n",
    "bow_test = vectorizer.transform(test['pre-processed text'])"
   ]
  },
  {
   "cell_type": "code",
   "execution_count": 21,
   "id": "2e41a151",
   "metadata": {},
   "outputs": [
    {
     "data": {
      "text/plain": [
       "MultinomialNB()"
      ]
     },
     "execution_count": 21,
     "metadata": {},
     "output_type": "execute_result"
    }
   ],
   "source": [
    "# Treinando MultinomialNB()\n",
    "\n",
    "model.fit(bow_train , y)"
   ]
  },
  {
   "cell_type": "code",
   "execution_count": 22,
   "id": "0a74ecad",
   "metadata": {},
   "outputs": [],
   "source": [
    "# Previsões\n",
    "\n",
    "test['target'] = model.predict(bow_test)"
   ]
  },
  {
   "cell_type": "code",
   "execution_count": 23,
   "id": "d1285977",
   "metadata": {},
   "outputs": [],
   "source": [
    "test[['id' , 'target']].to_csv('submission1.csv' , index = False)"
   ]
  },
  {
   "cell_type": "code",
   "execution_count": 24,
   "id": "82da70ea",
   "metadata": {},
   "outputs": [
    {
     "data": {
      "image/png": "[encoded data removed]",
      "text/plain": [
       "<IPython.core.display.Image object>"
      ]
     },
     "execution_count": 24,
     "metadata": {},
     "output_type": "execute_result"
    }
   ],
   "source": [
    "Image('kaggle1.png')"
   ]
  },
  {
   "cell_type": "markdown",
   "id": "9809dac0",
   "metadata": {},
   "source": [
    "Obtivemos um score de 0.79895 no Kaggle. Para obtermos um score de 0.79926 precisamos otimizar os hiperparâmetros. Vamos ver como fazer isso :"
   ]
  },
  {
   "cell_type": "markdown",
   "id": "ed093f5f",
   "metadata": {},
   "source": [
    "## Otimização dos Hiperparâmetros"
   ]
  },
  {
   "cell_type": "code",
   "execution_count": 25,
   "id": "bd5e8531",
   "metadata": {},
   "outputs": [],
   "source": [
    "# Dividindo o Dataset de treino para a validação cruzada\n",
    "\n",
    "X_train , X_test , y_train , y_test = train_test_split(X , y , test_size = 0.3 , stratify = y , random_state = 12)"
   ]
  },
  {
   "cell_type": "code",
   "execution_count": 26,
   "id": "fd23e098",
   "metadata": {},
   "outputs": [],
   "source": [
    "kf = KFold(n_splits = 10 , shuffle = True , random_state = 451)"
   ]
  },
  {
   "cell_type": "code",
   "execution_count": 27,
   "id": "33e57860",
   "metadata": {},
   "outputs": [],
   "source": [
    "# Observando a média dos scores de validação cruzada para 100 valores distintos do parâmetro alpha\n",
    "\n",
    "alpha_scores = []\n",
    "alphas = np.arange(0.1 , 10.1 , 0.1)\n",
    "for alpha in alphas :\n",
    "    scores = []\n",
    "    for train_index , test_index in kf.split(X):\n",
    "        X_train = X[train_index]\n",
    "        X_test = X[test_index]\n",
    "        y_train = y[train_index]\n",
    "        y_test = y[test_index]\n",
    "        bow_train = vectorizer.fit_transform(X_train)\n",
    "        bow_test = vectorizer.transform(X_test)\n",
    "        model = MultinomialNB(alpha = alpha)\n",
    "        model.fit(bow_train , y_train)\n",
    "        pred = model.predict(bow_test)\n",
    "        scores.append(f1_score(y_test , pred))\n",
    "    alpha_scores.append(np.mean(scores))"
   ]
  },
  {
   "cell_type": "code",
   "execution_count": 28,
   "id": "e7234bde",
   "metadata": {},
   "outputs": [
    {
     "data": {
      "text/html": [
       "<div>\n",
       "<style scoped>\n",
       "    .dataframe tbody tr th:only-of-type {\n",
       "        vertical-align: middle;\n",
       "    }\n",
       "\n",
       "    .dataframe tbody tr th {\n",
       "        vertical-align: top;\n",
       "    }\n",
       "\n",
       "    .dataframe thead th {\n",
       "        text-align: right;\n",
       "    }\n",
       "</style>\n",
       "<table border=\"1\" class=\"dataframe\">\n",
       "  <thead>\n",
       "    <tr style=\"text-align: right;\">\n",
       "      <th></th>\n",
       "      <th>Alphas</th>\n",
       "      <th>Score Médio na Validação Cruzada</th>\n",
       "    </tr>\n",
       "  </thead>\n",
       "  <tbody>\n",
       "    <tr>\n",
       "      <th>21</th>\n",
       "      <td>2.2</td>\n",
       "      <td>0.749196</td>\n",
       "    </tr>\n",
       "    <tr>\n",
       "      <th>20</th>\n",
       "      <td>2.1</td>\n",
       "      <td>0.749159</td>\n",
       "    </tr>\n",
       "    <tr>\n",
       "      <th>19</th>\n",
       "      <td>2.0</td>\n",
       "      <td>0.748813</td>\n",
       "    </tr>\n",
       "    <tr>\n",
       "      <th>22</th>\n",
       "      <td>2.3</td>\n",
       "      <td>0.748785</td>\n",
       "    </tr>\n",
       "    <tr>\n",
       "      <th>29</th>\n",
       "      <td>3.0</td>\n",
       "      <td>0.748681</td>\n",
       "    </tr>\n",
       "    <tr>\n",
       "      <th>...</th>\n",
       "      <td>...</td>\n",
       "      <td>...</td>\n",
       "    </tr>\n",
       "    <tr>\n",
       "      <th>99</th>\n",
       "      <td>10.0</td>\n",
       "      <td>0.741990</td>\n",
       "    </tr>\n",
       "    <tr>\n",
       "      <th>96</th>\n",
       "      <td>9.7</td>\n",
       "      <td>0.741951</td>\n",
       "    </tr>\n",
       "    <tr>\n",
       "      <th>95</th>\n",
       "      <td>9.6</td>\n",
       "      <td>0.741821</td>\n",
       "    </tr>\n",
       "    <tr>\n",
       "      <th>94</th>\n",
       "      <td>9.5</td>\n",
       "      <td>0.741821</td>\n",
       "    </tr>\n",
       "    <tr>\n",
       "      <th>0</th>\n",
       "      <td>0.1</td>\n",
       "      <td>0.738990</td>\n",
       "    </tr>\n",
       "  </tbody>\n",
       "</table>\n",
       "<p>100 rows × 2 columns</p>\n",
       "</div>"
      ],
      "text/plain": [
       "    Alphas  Score Médio na Validação Cruzada\n",
       "21     2.2                          0.749196\n",
       "20     2.1                          0.749159\n",
       "19     2.0                          0.748813\n",
       "22     2.3                          0.748785\n",
       "29     3.0                          0.748681\n",
       "..     ...                               ...\n",
       "99    10.0                          0.741990\n",
       "96     9.7                          0.741951\n",
       "95     9.6                          0.741821\n",
       "94     9.5                          0.741821\n",
       "0      0.1                          0.738990\n",
       "\n",
       "[100 rows x 2 columns]"
      ]
     },
     "execution_count": 28,
     "metadata": {},
     "output_type": "execute_result"
    }
   ],
   "source": [
    "# Observando os valores de alpha ordenados por  seus respectivos scores médios de validação cruzada\n",
    "\n",
    "dic = {'Alphas' : alphas , 'Score Médio na Validação Cruzada' : alpha_scores}\n",
    "\n",
    "df = pd.DataFrame(dic)\n",
    "\n",
    "df.sort_values(by = ['Score Médio na Validação Cruzada'] , ascending = False)"
   ]
  },
  {
   "cell_type": "markdown",
   "id": "db23b979",
   "metadata": {},
   "source": [
    "Os melhores scores obtidos ocorreram para alpha = 2.2 e para alpha = 2.1 . Quando submetemos ao Kaggle o melhor resultado ocorre para alpha = 2.1"
   ]
  },
  {
   "cell_type": "markdown",
   "id": "d1ec08bb",
   "metadata": {},
   "source": [
    "## Segunda Submissão ao Kaggle"
   ]
  },
  {
   "cell_type": "code",
   "execution_count": 29,
   "id": "726c56b8",
   "metadata": {},
   "outputs": [],
   "source": [
    "bow_train = vectorizer.fit_transform(X)\n",
    "\n",
    "bow_test = vectorizer.transform(test['pre-processed text'])"
   ]
  },
  {
   "cell_type": "code",
   "execution_count": 30,
   "id": "e8afd442",
   "metadata": {},
   "outputs": [
    {
     "data": {
      "text/plain": [
       "MultinomialNB(alpha=2.1)"
      ]
     },
     "execution_count": 30,
     "metadata": {},
     "output_type": "execute_result"
    }
   ],
   "source": [
    "model = MultinomialNB(alpha = 2.1)\n",
    "\n",
    "model.fit(bow_train , y)"
   ]
  },
  {
   "cell_type": "code",
   "execution_count": 31,
   "id": "68b982c1",
   "metadata": {},
   "outputs": [],
   "source": [
    "# Previsões\n",
    "\n",
    "test['target'] = model.predict(bow_test)"
   ]
  },
  {
   "cell_type": "code",
   "execution_count": 32,
   "id": "9ef907cb",
   "metadata": {},
   "outputs": [],
   "source": [
    "test[['id' , 'target']].to_csv('submission2.csv' , index = False)"
   ]
  },
  {
   "cell_type": "code",
   "execution_count": 33,
   "id": "8d2b00c9",
   "metadata": {},
   "outputs": [
    {
     "data": {
      "image/png": "[encoded data removed]",
      "text/plain": [
       "<IPython.core.display.Image object>"
      ]
     },
     "execution_count": 33,
     "metadata": {},
     "output_type": "execute_result"
    }
   ],
   "source": [
    "Image('kaggle2.png')"
   ]
  },
  {
   "cell_type": "markdown",
   "id": "f7e6d35a",
   "metadata": {},
   "source": [
    "## Comentários Finais"
   ]
  },
  {
   "cell_type": "markdown",
   "id": "ae683d6d",
   "metadata": {},
   "source": [
    "<p style='text-align: justify;'>Espero ter conseguido mostrar uma abordagem simples, porém eficaz ao tratarmos problemas de processamento de texto. É claro que existem outras abordagens que facilmente permitem obter um melhor score, porém a maioria delas utiliza redes neurais. Uma sugestão para aqueles que buscam uma melhor classificação é usar o Google BERT (Bidirectional Encoder Representations from Transformers) . Esse algoritmo de Deep Learning facilmente conduz a um melhor score."
   ]
  }
 ],
 "metadata": {
  "kernelspec": {
   "display_name": "Python 3 (ipykernel)",
   "language": "python",
   "name": "python3"
  },
  "language_info": {
   "codemirror_mode": {
    "name": "ipython",
    "version": 3
   },
   "file_extension": ".py",
   "mimetype": "text/x-python",
   "name": "python",
   "nbconvert_exporter": "python",
   "pygments_lexer": "ipython3",
   "version": "3.9.7"
  }
 },
 "nbformat": 4,
 "nbformat_minor": 5
}
