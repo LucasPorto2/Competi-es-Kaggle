{
 "cells": [
  {
   "cell_type": "markdown",
   "id": "c7d07284",
   "metadata": {},
   "source": [
    "# <center>Digit Recognizer<center>"
   ]
  },
  {
   "cell_type": "markdown",
   "id": "ffa38238",
   "metadata": {},
   "source": [
    "O objetivo deste trabalho é apresentar uma solução para a competição Digit Recognizer do Kaggle utilizando Redes Neurais Artificiais. "
   ]
  },
  {
   "cell_type": "markdown",
   "id": "38214e86",
   "metadata": {},
   "source": [
    "Mais informações sobre a competição em https://www.kaggle.com/competitions/digit-recognizer/overview"
   ]
  },
  {
   "cell_type": "code",
   "execution_count": 1,
   "id": "51cc7f79",
   "metadata": {},
   "outputs": [],
   "source": [
    "# Algumas importações básicas\n",
    "\n",
    "import numpy as np\n",
    "import pandas as pd\n",
    "import matplotlib.pyplot as plt\n",
    "import tensorflow as tf\n",
    "from keras.layers import Dense , BatchNormalization\n",
    "from keras.models import Sequential\n",
    "from keras.callbacks import ModelCheckpoint , EarlyStopping\n",
    "from IPython.display import Image"
   ]
  },
  {
   "cell_type": "markdown",
   "id": "3997cfe7",
   "metadata": {},
   "source": [
    "# <center>Leitura dos dados<center>"
   ]
  },
  {
   "cell_type": "code",
   "execution_count": 2,
   "id": "10dfb84c",
   "metadata": {},
   "outputs": [],
   "source": [
    "# Lendo o arquivo de treino\n",
    "\n",
    "train = pd.read_csv('MNIST_train.csv')"
   ]
  },
  {
   "cell_type": "code",
   "execution_count": 3,
   "id": "8f233f5d",
   "metadata": {},
   "outputs": [
    {
     "data": {
      "text/plain": [
       "(42000, 785)"
      ]
     },
     "execution_count": 3,
     "metadata": {},
     "output_type": "execute_result"
    }
   ],
   "source": [
    "# Dimensão do dataset de treino\n",
    "\n",
    "train.shape"
   ]
  },
  {
   "cell_type": "code",
   "execution_count": 4,
   "id": "4c8b21c4",
   "metadata": {},
   "outputs": [
    {
     "data": {
      "text/html": [
       "<div>\n",
       "<style scoped>\n",
       "    .dataframe tbody tr th:only-of-type {\n",
       "        vertical-align: middle;\n",
       "    }\n",
       "\n",
       "    .dataframe tbody tr th {\n",
       "        vertical-align: top;\n",
       "    }\n",
       "\n",
       "    .dataframe thead th {\n",
       "        text-align: right;\n",
       "    }\n",
       "</style>\n",
       "<table border=\"1\" class=\"dataframe\">\n",
       "  <thead>\n",
       "    <tr style=\"text-align: right;\">\n",
       "      <th></th>\n",
       "      <th>label</th>\n",
       "      <th>pixel0</th>\n",
       "      <th>pixel1</th>\n",
       "      <th>pixel2</th>\n",
       "      <th>pixel3</th>\n",
       "      <th>pixel4</th>\n",
       "      <th>pixel5</th>\n",
       "      <th>pixel6</th>\n",
       "      <th>pixel7</th>\n",
       "      <th>pixel8</th>\n",
       "      <th>...</th>\n",
       "      <th>pixel774</th>\n",
       "      <th>pixel775</th>\n",
       "      <th>pixel776</th>\n",
       "      <th>pixel777</th>\n",
       "      <th>pixel778</th>\n",
       "      <th>pixel779</th>\n",
       "      <th>pixel780</th>\n",
       "      <th>pixel781</th>\n",
       "      <th>pixel782</th>\n",
       "      <th>pixel783</th>\n",
       "    </tr>\n",
       "  </thead>\n",
       "  <tbody>\n",
       "    <tr>\n",
       "      <th>0</th>\n",
       "      <td>1</td>\n",
       "      <td>0</td>\n",
       "      <td>0</td>\n",
       "      <td>0</td>\n",
       "      <td>0</td>\n",
       "      <td>0</td>\n",
       "      <td>0</td>\n",
       "      <td>0</td>\n",
       "      <td>0</td>\n",
       "      <td>0</td>\n",
       "      <td>...</td>\n",
       "      <td>0</td>\n",
       "      <td>0</td>\n",
       "      <td>0</td>\n",
       "      <td>0</td>\n",
       "      <td>0</td>\n",
       "      <td>0</td>\n",
       "      <td>0</td>\n",
       "      <td>0</td>\n",
       "      <td>0</td>\n",
       "      <td>0</td>\n",
       "    </tr>\n",
       "    <tr>\n",
       "      <th>1</th>\n",
       "      <td>0</td>\n",
       "      <td>0</td>\n",
       "      <td>0</td>\n",
       "      <td>0</td>\n",
       "      <td>0</td>\n",
       "      <td>0</td>\n",
       "      <td>0</td>\n",
       "      <td>0</td>\n",
       "      <td>0</td>\n",
       "      <td>0</td>\n",
       "      <td>...</td>\n",
       "      <td>0</td>\n",
       "      <td>0</td>\n",
       "      <td>0</td>\n",
       "      <td>0</td>\n",
       "      <td>0</td>\n",
       "      <td>0</td>\n",
       "      <td>0</td>\n",
       "      <td>0</td>\n",
       "      <td>0</td>\n",
       "      <td>0</td>\n",
       "    </tr>\n",
       "    <tr>\n",
       "      <th>2</th>\n",
       "      <td>1</td>\n",
       "      <td>0</td>\n",
       "      <td>0</td>\n",
       "      <td>0</td>\n",
       "      <td>0</td>\n",
       "      <td>0</td>\n",
       "      <td>0</td>\n",
       "      <td>0</td>\n",
       "      <td>0</td>\n",
       "      <td>0</td>\n",
       "      <td>...</td>\n",
       "      <td>0</td>\n",
       "      <td>0</td>\n",
       "      <td>0</td>\n",
       "      <td>0</td>\n",
       "      <td>0</td>\n",
       "      <td>0</td>\n",
       "      <td>0</td>\n",
       "      <td>0</td>\n",
       "      <td>0</td>\n",
       "      <td>0</td>\n",
       "    </tr>\n",
       "    <tr>\n",
       "      <th>3</th>\n",
       "      <td>4</td>\n",
       "      <td>0</td>\n",
       "      <td>0</td>\n",
       "      <td>0</td>\n",
       "      <td>0</td>\n",
       "      <td>0</td>\n",
       "      <td>0</td>\n",
       "      <td>0</td>\n",
       "      <td>0</td>\n",
       "      <td>0</td>\n",
       "      <td>...</td>\n",
       "      <td>0</td>\n",
       "      <td>0</td>\n",
       "      <td>0</td>\n",
       "      <td>0</td>\n",
       "      <td>0</td>\n",
       "      <td>0</td>\n",
       "      <td>0</td>\n",
       "      <td>0</td>\n",
       "      <td>0</td>\n",
       "      <td>0</td>\n",
       "    </tr>\n",
       "    <tr>\n",
       "      <th>4</th>\n",
       "      <td>0</td>\n",
       "      <td>0</td>\n",
       "      <td>0</td>\n",
       "      <td>0</td>\n",
       "      <td>0</td>\n",
       "      <td>0</td>\n",
       "      <td>0</td>\n",
       "      <td>0</td>\n",
       "      <td>0</td>\n",
       "      <td>0</td>\n",
       "      <td>...</td>\n",
       "      <td>0</td>\n",
       "      <td>0</td>\n",
       "      <td>0</td>\n",
       "      <td>0</td>\n",
       "      <td>0</td>\n",
       "      <td>0</td>\n",
       "      <td>0</td>\n",
       "      <td>0</td>\n",
       "      <td>0</td>\n",
       "      <td>0</td>\n",
       "    </tr>\n",
       "  </tbody>\n",
       "</table>\n",
       "<p>5 rows × 785 columns</p>\n",
       "</div>"
      ],
      "text/plain": [
       "   label  pixel0  pixel1  pixel2  pixel3  pixel4  pixel5  pixel6  pixel7  \\\n",
       "0      1       0       0       0       0       0       0       0       0   \n",
       "1      0       0       0       0       0       0       0       0       0   \n",
       "2      1       0       0       0       0       0       0       0       0   \n",
       "3      4       0       0       0       0       0       0       0       0   \n",
       "4      0       0       0       0       0       0       0       0       0   \n",
       "\n",
       "   pixel8  ...  pixel774  pixel775  pixel776  pixel777  pixel778  pixel779  \\\n",
       "0       0  ...         0         0         0         0         0         0   \n",
       "1       0  ...         0         0         0         0         0         0   \n",
       "2       0  ...         0         0         0         0         0         0   \n",
       "3       0  ...         0         0         0         0         0         0   \n",
       "4       0  ...         0         0         0         0         0         0   \n",
       "\n",
       "   pixel780  pixel781  pixel782  pixel783  \n",
       "0         0         0         0         0  \n",
       "1         0         0         0         0  \n",
       "2         0         0         0         0  \n",
       "3         0         0         0         0  \n",
       "4         0         0         0         0  \n",
       "\n",
       "[5 rows x 785 columns]"
      ]
     },
     "execution_count": 4,
     "metadata": {},
     "output_type": "execute_result"
    }
   ],
   "source": [
    "# Observando um pouco dos dados de treino\n",
    "\n",
    "train.head()"
   ]
  },
  {
   "cell_type": "code",
   "execution_count": 5,
   "id": "0f464bcf",
   "metadata": {},
   "outputs": [
    {
     "data": {
      "text/plain": [
       "label       0\n",
       "pixel0      0\n",
       "pixel1      0\n",
       "pixel2      0\n",
       "pixel3      0\n",
       "           ..\n",
       "pixel779    0\n",
       "pixel780    0\n",
       "pixel781    0\n",
       "pixel782    0\n",
       "pixel783    0\n",
       "Length: 785, dtype: int64"
      ]
     },
     "execution_count": 5,
     "metadata": {},
     "output_type": "execute_result"
    }
   ],
   "source": [
    "# Observando se existem valores faltantes\n",
    "\n",
    "train.isnull().sum()"
   ]
  },
  {
   "cell_type": "code",
   "execution_count": 6,
   "id": "93c77ed7",
   "metadata": {},
   "outputs": [
    {
     "data": {
      "text/plain": [
       "0"
      ]
     },
     "execution_count": 6,
     "metadata": {},
     "output_type": "execute_result"
    }
   ],
   "source": [
    "# Não existem !\n",
    "\n",
    "sum(train.isnull().sum())"
   ]
  },
  {
   "cell_type": "code",
   "execution_count": 7,
   "id": "17446e9e",
   "metadata": {},
   "outputs": [],
   "source": [
    "# Lendo o arquivo de teste\n",
    "\n",
    "test = pd.read_csv('MNIST_test.csv')"
   ]
  },
  {
   "cell_type": "code",
   "execution_count": 8,
   "id": "6e51f69e",
   "metadata": {},
   "outputs": [
    {
     "data": {
      "text/plain": [
       "(28000, 784)"
      ]
     },
     "execution_count": 8,
     "metadata": {},
     "output_type": "execute_result"
    }
   ],
   "source": [
    "# Dimensão dos dados de teste\n",
    "\n",
    "test.shape"
   ]
  },
  {
   "cell_type": "code",
   "execution_count": 9,
   "id": "afae21c4",
   "metadata": {},
   "outputs": [
    {
     "data": {
      "text/plain": [
       "0"
      ]
     },
     "execution_count": 9,
     "metadata": {},
     "output_type": "execute_result"
    }
   ],
   "source": [
    "# Sem valores ausentes no conjunto de teste !\n",
    "\n",
    "sum(test.isnull().sum())"
   ]
  },
  {
   "cell_type": "code",
   "execution_count": 10,
   "id": "701c98f0",
   "metadata": {},
   "outputs": [],
   "source": [
    "y_train = np.array(train['label'])\n",
    "X_train = train.drop('label' , axis = 1)"
   ]
  },
  {
   "cell_type": "code",
   "execution_count": 11,
   "id": "2b81f654",
   "metadata": {},
   "outputs": [],
   "source": [
    "# One-Hot-Encoding\n",
    "\n",
    "lista = [0]*10\n",
    "y_train_encoding = []\n",
    "for i in y_train:\n",
    "    lista[i] = 1\n",
    "    y_train_encoding.append(lista)\n",
    "    lista = 10*[0]"
   ]
  },
  {
   "cell_type": "code",
   "execution_count": 12,
   "id": "f54e2d47",
   "metadata": {},
   "outputs": [],
   "source": [
    "y_train_encoding = np.array(y_train_encoding)"
   ]
  },
  {
   "cell_type": "code",
   "execution_count": 13,
   "id": "11df0584",
   "metadata": {},
   "outputs": [
    {
     "data": {
      "text/plain": [
       "array([[0, 1, 0, ..., 0, 0, 0],\n",
       "       [1, 0, 0, ..., 0, 0, 0],\n",
       "       [0, 1, 0, ..., 0, 0, 0],\n",
       "       ...,\n",
       "       [0, 0, 0, ..., 1, 0, 0],\n",
       "       [0, 0, 0, ..., 0, 0, 0],\n",
       "       [0, 0, 0, ..., 0, 0, 1]])"
      ]
     },
     "execution_count": 13,
     "metadata": {},
     "output_type": "execute_result"
    }
   ],
   "source": [
    "y_train_encoding"
   ]
  },
  {
   "cell_type": "markdown",
   "id": "1e55a033",
   "metadata": {},
   "source": [
    "# <center>Rede Neural Artificial<center>"
   ]
  },
  {
   "cell_type": "code",
   "execution_count": 14,
   "id": "5cd180f3",
   "metadata": {},
   "outputs": [],
   "source": [
    "# Construindo a rede\n",
    "\n",
    "model = Sequential()\n",
    "model.add(Dense(350 , activation = 'relu' , input_shape = (784 , )))\n",
    "model.add(BatchNormalization())\n",
    "model.add(Dense(200 , activation = 'relu' ))\n",
    "model.add(BatchNormalization())\n",
    "model.add(Dense(100 , activation = 'relu' ))\n",
    "model.add(BatchNormalization())\n",
    "model.add(Dense(50 , activation = 'relu' ))\n",
    "model.add(BatchNormalization())\n",
    "model.add(Dense(25 , activation = 'relu' ))\n",
    "model.add(BatchNormalization())\n",
    "model.add(Dense(10 , activation = 'relu' ))\n",
    "model.add(BatchNormalization())\n",
    "model.add(Dense(10 , activation = 'softmax'))\n",
    "model.compile(optimizer = 'adam' , loss = 'categorical_crossentropy' , metrics = ['accuracy'])"
   ]
  },
  {
   "cell_type": "markdown",
   "id": "0f91362f",
   "metadata": {},
   "source": [
    "<p style='text-align: justify;'>A rede neural construída acima possui 7 camadas densas e em todas essas camadas com exceção da última a função de ativação é a relu. Na última camada a função de ativação é a softmax, pois nossa tarefa é uma tarefa de classificação multicategoria e essa função fornecerá a probabilidade de cada classe. Por fim, o otimizador escolhido é o adam."
   ]
  },
  {
   "cell_type": "code",
   "execution_count": 15,
   "id": "93f23abc",
   "metadata": {},
   "outputs": [],
   "source": [
    "# Criando um checkpoint para salvar os pesos do modelo que levam a maior acurácia de validação\n",
    "\n",
    "checkpoint = ModelCheckpoint('weights.hdf5' , monitor = 'val_accuracy' , save_best_only = True )"
   ]
  },
  {
   "cell_type": "code",
   "execution_count": 16,
   "id": "4c1a2c37",
   "metadata": {},
   "outputs": [],
   "source": [
    "# Obrigando o modelo a parar quando se passarem 5 épocas sem aumentar o valor da acurácia de validaçao\n",
    "\n",
    "early_stopping = EarlyStopping(monitor = 'val_accuracy' , patience = 5)"
   ]
  },
  {
   "cell_type": "code",
   "execution_count": 17,
   "id": "c32a8b18",
   "metadata": {},
   "outputs": [
    {
     "name": "stdout",
     "output_type": "stream",
     "text": [
      "Epoch 1/40\n",
      "1050/1050 [==============================] - 45s 35ms/step - loss: 0.5424 - accuracy: 0.8588 - val_loss: 0.1716 - val_accuracy: 0.9517\n",
      "Epoch 2/40\n",
      "1050/1050 [==============================] - 38s 36ms/step - loss: 0.2201 - accuracy: 0.9365 - val_loss: 0.1489 - val_accuracy: 0.9565\n",
      "Epoch 3/40\n",
      "1050/1050 [==============================] - 33s 31ms/step - loss: 0.1636 - accuracy: 0.9521 - val_loss: 0.1160 - val_accuracy: 0.9676\n",
      "Epoch 4/40\n",
      "1050/1050 [==============================] - 34s 32ms/step - loss: 0.1295 - accuracy: 0.9619 - val_loss: 0.1165 - val_accuracy: 0.9654\n",
      "Epoch 5/40\n",
      "1050/1050 [==============================] - 34s 33ms/step - loss: 0.1133 - accuracy: 0.9662 - val_loss: 0.1292 - val_accuracy: 0.9632\n",
      "Epoch 6/40\n",
      "1050/1050 [==============================] - 32s 30ms/step - loss: 0.1035 - accuracy: 0.9695 - val_loss: 0.0997 - val_accuracy: 0.9723\n",
      "Epoch 7/40\n",
      "1050/1050 [==============================] - 33s 31ms/step - loss: 0.0859 - accuracy: 0.9737 - val_loss: 0.0940 - val_accuracy: 0.9708\n",
      "Epoch 8/40\n",
      "1050/1050 [==============================] - 36s 34ms/step - loss: 0.0817 - accuracy: 0.9744 - val_loss: 0.1027 - val_accuracy: 0.9721\n",
      "Epoch 9/40\n",
      "1050/1050 [==============================] - 35s 33ms/step - loss: 0.0716 - accuracy: 0.9779 - val_loss: 0.1052 - val_accuracy: 0.9737\n",
      "Epoch 10/40\n",
      "1050/1050 [==============================] - 32s 30ms/step - loss: 0.0628 - accuracy: 0.9808 - val_loss: 0.1106 - val_accuracy: 0.9740\n",
      "Epoch 11/40\n",
      "1050/1050 [==============================] - 35s 33ms/step - loss: 0.0584 - accuracy: 0.9819 - val_loss: 0.0983 - val_accuracy: 0.9760\n",
      "Epoch 12/40\n",
      "1050/1050 [==============================] - 36s 34ms/step - loss: 0.0526 - accuracy: 0.9835 - val_loss: 0.1021 - val_accuracy: 0.9746\n",
      "Epoch 13/40\n",
      "1050/1050 [==============================] - 34s 33ms/step - loss: 0.0455 - accuracy: 0.9851 - val_loss: 0.1029 - val_accuracy: 0.9740\n",
      "Epoch 14/40\n",
      "1050/1050 [==============================] - 35s 33ms/step - loss: 0.0425 - accuracy: 0.9871 - val_loss: 0.1005 - val_accuracy: 0.9748\n",
      "Epoch 15/40\n",
      "1050/1050 [==============================] - 35s 33ms/step - loss: 0.0419 - accuracy: 0.9866 - val_loss: 0.0998 - val_accuracy: 0.9744\n",
      "Epoch 16/40\n",
      "1050/1050 [==============================] - 34s 32ms/step - loss: 0.0382 - accuracy: 0.9874 - val_loss: 0.0959 - val_accuracy: 0.9795\n",
      "Epoch 17/40\n",
      "1050/1050 [==============================] - 35s 33ms/step - loss: 0.0398 - accuracy: 0.9874 - val_loss: 0.1040 - val_accuracy: 0.9758\n",
      "Epoch 18/40\n",
      "1050/1050 [==============================] - 38s 36ms/step - loss: 0.0334 - accuracy: 0.9896 - val_loss: 0.0997 - val_accuracy: 0.9761\n",
      "Epoch 19/40\n",
      "1050/1050 [==============================] - 37s 35ms/step - loss: 0.0317 - accuracy: 0.9898 - val_loss: 0.1127 - val_accuracy: 0.9761\n",
      "Epoch 20/40\n",
      "1050/1050 [==============================] - 36s 34ms/step - loss: 0.0309 - accuracy: 0.9902 - val_loss: 0.1077 - val_accuracy: 0.9771\n",
      "Epoch 21/40\n",
      "1050/1050 [==============================] - 32s 30ms/step - loss: 0.0307 - accuracy: 0.9905 - val_loss: 0.0876 - val_accuracy: 0.9780\n"
     ]
    }
   ],
   "source": [
    "# Treinando a rede neural\n",
    "\n",
    "history = model.fit(X_train , y_train_encoding, epochs = 40 , validation_split = 0.2 , callbacks = [checkpoint, early_stopping])"
   ]
  },
  {
   "cell_type": "code",
   "execution_count": 18,
   "id": "ff22f02d",
   "metadata": {},
   "outputs": [
    {
     "data": {
      "text/plain": [
       "0.9795238375663757"
      ]
     },
     "execution_count": 18,
     "metadata": {},
     "output_type": "execute_result"
    }
   ],
   "source": [
    "# Maior valor da acurácia de validação\n",
    "\n",
    "max(history.history['val_accuracy'])"
   ]
  },
  {
   "cell_type": "code",
   "execution_count": 19,
   "id": "63c0e83c",
   "metadata": {},
   "outputs": [],
   "source": [
    "# Salvando os pesos que geram a maior acurácia de validação\n",
    "\n",
    "model.load_weights('weights.hdf5')"
   ]
  },
  {
   "cell_type": "code",
   "execution_count": 21,
   "id": "6f37c1aa",
   "metadata": {},
   "outputs": [
    {
     "data": {
      "image/png": "[encoded data removed]",
      "text/plain": [
       "<Figure size 432x288 with 1 Axes>"
      ]
     },
     "metadata": {
      "needs_background": "light"
     },
     "output_type": "display_data"
    }
   ],
   "source": [
    "plt.plot(list(range(1 , 22, 1)) , history.history['accuracy'] , label = 'accuracy')\n",
    "plt.plot(list(range(1 , 22, 1)) , history.history['val_accuracy'] , label = 'val_accuracy')\n",
    "plt.xlabel('Epochs')\n",
    "plt.ylabel('Accuracy')\n",
    "plt.legend()\n",
    "plt.show()"
   ]
  },
  {
   "cell_type": "markdown",
   "id": "345bfd46",
   "metadata": {},
   "source": [
    "# <center>Submission<center>"
   ]
  },
  {
   "cell_type": "code",
   "execution_count": 22,
   "id": "9c0e7b40",
   "metadata": {},
   "outputs": [],
   "source": [
    "X_test = np.array(test)"
   ]
  },
  {
   "cell_type": "code",
   "execution_count": 23,
   "id": "507c5c45",
   "metadata": {},
   "outputs": [
    {
     "name": "stdout",
     "output_type": "stream",
     "text": [
      "875/875 [==============================] - 13s 14ms/step\n"
     ]
    }
   ],
   "source": [
    "predictions = np.argmax(model.predict(X_test), axis=-1)"
   ]
  },
  {
   "cell_type": "code",
   "execution_count": 24,
   "id": "6d92a863",
   "metadata": {},
   "outputs": [],
   "source": [
    "test['Label'] = predictions\n",
    "test['ImageId'] = list(range(1, 28001 , 1))"
   ]
  },
  {
   "cell_type": "code",
   "execution_count": 25,
   "id": "1062c1a5",
   "metadata": {},
   "outputs": [],
   "source": [
    "test[['ImageId' , 'Label']].to_csv('submission.csv' , index = False)"
   ]
  },
  {
   "cell_type": "markdown",
   "id": "a77c8757",
   "metadata": {},
   "source": [
    "Essa submissão nos gerou um score de 0.97685 no Kaggle e, portanto, está em linha com a nossa validação."
   ]
  }
 ],
 "metadata": {
  "kernelspec": {
   "display_name": "Python 3 (ipykernel)",
   "language": "python",
   "name": "python3"
  },
  "language_info": {
   "codemirror_mode": {
    "name": "ipython",
    "version": 3
   },
   "file_extension": ".py",
   "mimetype": "text/x-python",
   "name": "python",
   "nbconvert_exporter": "python",
   "pygments_lexer": "ipython3",
   "version": "3.9.7"
  }
 },
 "nbformat": 4,
 "nbformat_minor": 5
}
