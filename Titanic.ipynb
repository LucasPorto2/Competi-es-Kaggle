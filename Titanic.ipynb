{
 "cells": [
  {
   "cell_type": "markdown",
   "id": "f23438fc",
   "metadata": {},
   "source": [
    "# <center>Titanic - Machine Learning from Disaster<center>"
   ]
  },
  {
   "cell_type": "markdown",
   "id": "9727c896",
   "metadata": {},
   "source": [
    "O objetivo deste trabalho é apresentar a minha solução para a competição **Titanic - Machine Learning from Disaster** presente no Kaggle.\n",
    "\n",
    "Mais informações sobre a competição em : https://www.kaggle.com/competitions/titanic/overview/"
   ]
  },
  {
   "cell_type": "markdown",
   "id": "cc4a4a40",
   "metadata": {},
   "source": [
    "Este notebook está dividido nos seguintes tópicos :\n",
    "\n",
    "1. **Leitura dos Arquivos de Treino e Teste**\n",
    "2. **Pré-processamento dos Dados**\n",
    "\n",
    "\n",
    "    2.1 Observações Iniciais\n",
    "    2.2 Tratamento de Valores Ausentes\n",
    "        2.2.1 Age\n",
    "        2.2.2 Cabin\n",
    "        2.2.3 Embarked\n",
    "        2.2.4 Fare\n",
    "    2.3 Feature Scaling\n",
    "3. **Feature Engineering**\n",
    "\n",
    "\n",
    "    3.1 Tratamento de Variáveis Categóricas\n",
    "        3.1.1 Sex\n",
    "        3.1.2 Embarked\n",
    "    3.2 Criação de Novas variáveis\n",
    "        3.2.1 SibSp+Parch\n",
    "        3.2.2 Pronome\n",
    "        3.2.3 Cabin\n",
    "        3.2.4 Ticket\n",
    "4. **Modelagem**\n",
    "\n",
    "\n",
    "    4.1 Acurácia no conjunto de treino\n",
    "    4.2 Acurácia em Dados não vistos - Validação Cruzada\n",
    "    4.3 Otimização de Hiperparâmetros através de Pesquisa em Grade\n",
    "    4.4 Stacking\n",
    "    4.5 Blending\n",
    "        4.5.1 Submetendo ao Kaggle\n",
    "5. **Comentários Finais**"
   ]
  },
  {
   "cell_type": "code",
   "execution_count": 1,
   "id": "b0bd9df7",
   "metadata": {},
   "outputs": [],
   "source": [
    "# Algumas importações necessárias\n",
    "\n",
    "import pandas as pd\n",
    "import numpy as np\n",
    "import matplotlib.pyplot as plt\n",
    "import xgboost as xgb\n",
    "from sklearn.linear_model import LogisticRegression\n",
    "from sklearn.neighbors import KNeighborsClassifier\n",
    "from sklearn.svm import SVC, LinearSVC , NuSVC\n",
    "from sklearn.tree import DecisionTreeClassifier\n",
    "from sklearn.naive_bayes import GaussianNB\n",
    "from sklearn.ensemble import RandomForestClassifier , AdaBoostClassifier , GradientBoostingClassifier , VotingClassifier, StackingClassifier\n",
    "from sklearn.model_selection import cross_val_score , KFold , StratifiedKFold, GridSearchCV\n",
    "from sklearn.preprocessing import StandardScaler, LabelEncoder\n",
    "from IPython.display import Image"
   ]
  },
  {
   "cell_type": "markdown",
   "id": "91580e44",
   "metadata": {},
   "source": [
    "## <center>1. Leitura dos Arquivos de Treino e Teste<center>"
   ]
  },
  {
   "cell_type": "code",
   "execution_count": 2,
   "id": "633e4043",
   "metadata": {},
   "outputs": [],
   "source": [
    "# Transformando os arquivos de treino e teste em dataframes\n",
    "\n",
    "df_train = pd.read_csv('train.csv')\n",
    "df_test = pd.read_csv('test.csv')"
   ]
  },
  {
   "cell_type": "markdown",
   "id": "5ded361b",
   "metadata": {},
   "source": [
    "## <center>2. Pré-processamento dos Dados<center>"
   ]
  },
  {
   "cell_type": "markdown",
   "id": "3b907c30",
   "metadata": {},
   "source": [
    "### 2.1 Observações Iniciais"
   ]
  },
  {
   "cell_type": "code",
   "execution_count": 3,
   "id": "afac3c40",
   "metadata": {},
   "outputs": [
    {
     "data": {
      "text/plain": [
       "(891, 12)"
      ]
     },
     "execution_count": 3,
     "metadata": {},
     "output_type": "execute_result"
    }
   ],
   "source": [
    "# Tamanho do dataset de treino\n",
    "\n",
    "df_train.shape"
   ]
  },
  {
   "cell_type": "code",
   "execution_count": 4,
   "id": "e1e9c6e2",
   "metadata": {},
   "outputs": [
    {
     "data": {
      "text/html": [
       "<div>\n",
       "<style scoped>\n",
       "    .dataframe tbody tr th:only-of-type {\n",
       "        vertical-align: middle;\n",
       "    }\n",
       "\n",
       "    .dataframe tbody tr th {\n",
       "        vertical-align: top;\n",
       "    }\n",
       "\n",
       "    .dataframe thead th {\n",
       "        text-align: right;\n",
       "    }\n",
       "</style>\n",
       "<table border=\"1\" class=\"dataframe\">\n",
       "  <thead>\n",
       "    <tr style=\"text-align: right;\">\n",
       "      <th></th>\n",
       "      <th>PassengerId</th>\n",
       "      <th>Survived</th>\n",
       "      <th>Pclass</th>\n",
       "      <th>Name</th>\n",
       "      <th>Sex</th>\n",
       "      <th>Age</th>\n",
       "      <th>SibSp</th>\n",
       "      <th>Parch</th>\n",
       "      <th>Ticket</th>\n",
       "      <th>Fare</th>\n",
       "      <th>Cabin</th>\n",
       "      <th>Embarked</th>\n",
       "    </tr>\n",
       "  </thead>\n",
       "  <tbody>\n",
       "    <tr>\n",
       "      <th>0</th>\n",
       "      <td>1</td>\n",
       "      <td>0</td>\n",
       "      <td>3</td>\n",
       "      <td>Braund, Mr. Owen Harris</td>\n",
       "      <td>male</td>\n",
       "      <td>22.0</td>\n",
       "      <td>1</td>\n",
       "      <td>0</td>\n",
       "      <td>A/5 21171</td>\n",
       "      <td>7.2500</td>\n",
       "      <td>NaN</td>\n",
       "      <td>S</td>\n",
       "    </tr>\n",
       "    <tr>\n",
       "      <th>1</th>\n",
       "      <td>2</td>\n",
       "      <td>1</td>\n",
       "      <td>1</td>\n",
       "      <td>Cumings, Mrs. John Bradley (Florence Briggs Th...</td>\n",
       "      <td>female</td>\n",
       "      <td>38.0</td>\n",
       "      <td>1</td>\n",
       "      <td>0</td>\n",
       "      <td>PC 17599</td>\n",
       "      <td>71.2833</td>\n",
       "      <td>C85</td>\n",
       "      <td>C</td>\n",
       "    </tr>\n",
       "    <tr>\n",
       "      <th>2</th>\n",
       "      <td>3</td>\n",
       "      <td>1</td>\n",
       "      <td>3</td>\n",
       "      <td>Heikkinen, Miss. Laina</td>\n",
       "      <td>female</td>\n",
       "      <td>26.0</td>\n",
       "      <td>0</td>\n",
       "      <td>0</td>\n",
       "      <td>STON/O2. 3101282</td>\n",
       "      <td>7.9250</td>\n",
       "      <td>NaN</td>\n",
       "      <td>S</td>\n",
       "    </tr>\n",
       "    <tr>\n",
       "      <th>3</th>\n",
       "      <td>4</td>\n",
       "      <td>1</td>\n",
       "      <td>1</td>\n",
       "      <td>Futrelle, Mrs. Jacques Heath (Lily May Peel)</td>\n",
       "      <td>female</td>\n",
       "      <td>35.0</td>\n",
       "      <td>1</td>\n",
       "      <td>0</td>\n",
       "      <td>113803</td>\n",
       "      <td>53.1000</td>\n",
       "      <td>C123</td>\n",
       "      <td>S</td>\n",
       "    </tr>\n",
       "    <tr>\n",
       "      <th>4</th>\n",
       "      <td>5</td>\n",
       "      <td>0</td>\n",
       "      <td>3</td>\n",
       "      <td>Allen, Mr. William Henry</td>\n",
       "      <td>male</td>\n",
       "      <td>35.0</td>\n",
       "      <td>0</td>\n",
       "      <td>0</td>\n",
       "      <td>373450</td>\n",
       "      <td>8.0500</td>\n",
       "      <td>NaN</td>\n",
       "      <td>S</td>\n",
       "    </tr>\n",
       "  </tbody>\n",
       "</table>\n",
       "</div>"
      ],
      "text/plain": [
       "   PassengerId  Survived  Pclass  \\\n",
       "0            1         0       3   \n",
       "1            2         1       1   \n",
       "2            3         1       3   \n",
       "3            4         1       1   \n",
       "4            5         0       3   \n",
       "\n",
       "                                                Name     Sex   Age  SibSp  \\\n",
       "0                            Braund, Mr. Owen Harris    male  22.0      1   \n",
       "1  Cumings, Mrs. John Bradley (Florence Briggs Th...  female  38.0      1   \n",
       "2                             Heikkinen, Miss. Laina  female  26.0      0   \n",
       "3       Futrelle, Mrs. Jacques Heath (Lily May Peel)  female  35.0      1   \n",
       "4                           Allen, Mr. William Henry    male  35.0      0   \n",
       "\n",
       "   Parch            Ticket     Fare Cabin Embarked  \n",
       "0      0         A/5 21171   7.2500   NaN        S  \n",
       "1      0          PC 17599  71.2833   C85        C  \n",
       "2      0  STON/O2. 3101282   7.9250   NaN        S  \n",
       "3      0            113803  53.1000  C123        S  \n",
       "4      0            373450   8.0500   NaN        S  "
      ]
     },
     "execution_count": 4,
     "metadata": {},
     "output_type": "execute_result"
    }
   ],
   "source": [
    "# Observando as 5 primeiras linhas do dataset de treino\n",
    "\n",
    "df_train.head()"
   ]
  },
  {
   "cell_type": "code",
   "execution_count": 5,
   "id": "556c1d57",
   "metadata": {},
   "outputs": [
    {
     "data": {
      "text/html": [
       "<div>\n",
       "<style scoped>\n",
       "    .dataframe tbody tr th:only-of-type {\n",
       "        vertical-align: middle;\n",
       "    }\n",
       "\n",
       "    .dataframe tbody tr th {\n",
       "        vertical-align: top;\n",
       "    }\n",
       "\n",
       "    .dataframe thead th {\n",
       "        text-align: right;\n",
       "    }\n",
       "</style>\n",
       "<table border=\"1\" class=\"dataframe\">\n",
       "  <thead>\n",
       "    <tr style=\"text-align: right;\">\n",
       "      <th></th>\n",
       "      <th>PassengerId</th>\n",
       "      <th>Survived</th>\n",
       "      <th>Pclass</th>\n",
       "      <th>Age</th>\n",
       "      <th>SibSp</th>\n",
       "      <th>Parch</th>\n",
       "      <th>Fare</th>\n",
       "    </tr>\n",
       "  </thead>\n",
       "  <tbody>\n",
       "    <tr>\n",
       "      <th>count</th>\n",
       "      <td>891.000000</td>\n",
       "      <td>891.000000</td>\n",
       "      <td>891.000000</td>\n",
       "      <td>714.000000</td>\n",
       "      <td>891.000000</td>\n",
       "      <td>891.000000</td>\n",
       "      <td>891.000000</td>\n",
       "    </tr>\n",
       "    <tr>\n",
       "      <th>mean</th>\n",
       "      <td>446.000000</td>\n",
       "      <td>0.383838</td>\n",
       "      <td>2.308642</td>\n",
       "      <td>29.699118</td>\n",
       "      <td>0.523008</td>\n",
       "      <td>0.381594</td>\n",
       "      <td>32.204208</td>\n",
       "    </tr>\n",
       "    <tr>\n",
       "      <th>std</th>\n",
       "      <td>257.353842</td>\n",
       "      <td>0.486592</td>\n",
       "      <td>0.836071</td>\n",
       "      <td>14.526497</td>\n",
       "      <td>1.102743</td>\n",
       "      <td>0.806057</td>\n",
       "      <td>49.693429</td>\n",
       "    </tr>\n",
       "    <tr>\n",
       "      <th>min</th>\n",
       "      <td>1.000000</td>\n",
       "      <td>0.000000</td>\n",
       "      <td>1.000000</td>\n",
       "      <td>0.420000</td>\n",
       "      <td>0.000000</td>\n",
       "      <td>0.000000</td>\n",
       "      <td>0.000000</td>\n",
       "    </tr>\n",
       "    <tr>\n",
       "      <th>25%</th>\n",
       "      <td>223.500000</td>\n",
       "      <td>0.000000</td>\n",
       "      <td>2.000000</td>\n",
       "      <td>20.125000</td>\n",
       "      <td>0.000000</td>\n",
       "      <td>0.000000</td>\n",
       "      <td>7.910400</td>\n",
       "    </tr>\n",
       "    <tr>\n",
       "      <th>50%</th>\n",
       "      <td>446.000000</td>\n",
       "      <td>0.000000</td>\n",
       "      <td>3.000000</td>\n",
       "      <td>28.000000</td>\n",
       "      <td>0.000000</td>\n",
       "      <td>0.000000</td>\n",
       "      <td>14.454200</td>\n",
       "    </tr>\n",
       "    <tr>\n",
       "      <th>75%</th>\n",
       "      <td>668.500000</td>\n",
       "      <td>1.000000</td>\n",
       "      <td>3.000000</td>\n",
       "      <td>38.000000</td>\n",
       "      <td>1.000000</td>\n",
       "      <td>0.000000</td>\n",
       "      <td>31.000000</td>\n",
       "    </tr>\n",
       "    <tr>\n",
       "      <th>max</th>\n",
       "      <td>891.000000</td>\n",
       "      <td>1.000000</td>\n",
       "      <td>3.000000</td>\n",
       "      <td>80.000000</td>\n",
       "      <td>8.000000</td>\n",
       "      <td>6.000000</td>\n",
       "      <td>512.329200</td>\n",
       "    </tr>\n",
       "  </tbody>\n",
       "</table>\n",
       "</div>"
      ],
      "text/plain": [
       "       PassengerId    Survived      Pclass         Age       SibSp  \\\n",
       "count   891.000000  891.000000  891.000000  714.000000  891.000000   \n",
       "mean    446.000000    0.383838    2.308642   29.699118    0.523008   \n",
       "std     257.353842    0.486592    0.836071   14.526497    1.102743   \n",
       "min       1.000000    0.000000    1.000000    0.420000    0.000000   \n",
       "25%     223.500000    0.000000    2.000000   20.125000    0.000000   \n",
       "50%     446.000000    0.000000    3.000000   28.000000    0.000000   \n",
       "75%     668.500000    1.000000    3.000000   38.000000    1.000000   \n",
       "max     891.000000    1.000000    3.000000   80.000000    8.000000   \n",
       "\n",
       "            Parch        Fare  \n",
       "count  891.000000  891.000000  \n",
       "mean     0.381594   32.204208  \n",
       "std      0.806057   49.693429  \n",
       "min      0.000000    0.000000  \n",
       "25%      0.000000    7.910400  \n",
       "50%      0.000000   14.454200  \n",
       "75%      0.000000   31.000000  \n",
       "max      6.000000  512.329200  "
      ]
     },
     "execution_count": 5,
     "metadata": {},
     "output_type": "execute_result"
    }
   ],
   "source": [
    "# Obtendo algumas estatísticas básicas de cada Feature \n",
    "\n",
    "df_train.describe()"
   ]
  },
  {
   "cell_type": "code",
   "execution_count": 6,
   "id": "a8731c8b",
   "metadata": {},
   "outputs": [
    {
     "data": {
      "text/plain": [
       "PassengerId      int64\n",
       "Survived         int64\n",
       "Pclass           int64\n",
       "Name            object\n",
       "Sex             object\n",
       "Age            float64\n",
       "SibSp            int64\n",
       "Parch            int64\n",
       "Ticket          object\n",
       "Fare           float64\n",
       "Cabin           object\n",
       "Embarked        object\n",
       "dtype: object"
      ]
     },
     "execution_count": 6,
     "metadata": {},
     "output_type": "execute_result"
    }
   ],
   "source": [
    "# Olhando para o tipo de dado de cada Feature para saber se precisamos modificar algum \n",
    "\n",
    "df_train.dtypes"
   ]
  },
  {
   "cell_type": "markdown",
   "id": "e2883f86",
   "metadata": {},
   "source": [
    "Tudo certo com os tipos de dado que a função pd.read_csv inferiu da base de dados disponibilizada pelo Kaggle .\n",
    "\n",
    "Após termos feito uma observação inicial vamos para uma parte importante do projeto : Tratar os dados ausentes."
   ]
  },
  {
   "cell_type": "markdown",
   "id": "881c0191",
   "metadata": {},
   "source": [
    "### 2.2 Tratamento de Valores Ausentes"
   ]
  },
  {
   "cell_type": "markdown",
   "id": "8e2488a2",
   "metadata": {},
   "source": [
    "O tratamento de dados ausentes é parte essencial de qualquer projeto de Ciência de Dados uma vez que os modelos disponibilizados pela biblioteca Scikit-Learn **não possuem suporte para serem treinados em conjuntos com valores ausentes (NaN)**. Sendo assim sempre torna-se necessário traçar uma estratégia de imputação de dados ."
   ]
  },
  {
   "cell_type": "code",
   "execution_count": 7,
   "id": "8331bc1c",
   "metadata": {},
   "outputs": [
    {
     "data": {
      "text/plain": [
       "PassengerId      0\n",
       "Survived         0\n",
       "Pclass           0\n",
       "Name             0\n",
       "Sex              0\n",
       "Age            177\n",
       "SibSp            0\n",
       "Parch            0\n",
       "Ticket           0\n",
       "Fare             0\n",
       "Cabin          687\n",
       "Embarked         2\n",
       "dtype: int64"
      ]
     },
     "execution_count": 7,
     "metadata": {},
     "output_type": "execute_result"
    }
   ],
   "source": [
    "# Analisando quais colunas possuem valores ausentes no dataset de treino e quantos são esses valores\n",
    "\n",
    "df_train.isnull().sum()"
   ]
  },
  {
   "cell_type": "code",
   "execution_count": 8,
   "id": "4d068c7b",
   "metadata": {},
   "outputs": [
    {
     "data": {
      "text/plain": [
       "PassengerId      0\n",
       "Pclass           0\n",
       "Name             0\n",
       "Sex              0\n",
       "Age             86\n",
       "SibSp            0\n",
       "Parch            0\n",
       "Ticket           0\n",
       "Fare             1\n",
       "Cabin          327\n",
       "Embarked         0\n",
       "dtype: int64"
      ]
     },
     "execution_count": 8,
     "metadata": {},
     "output_type": "execute_result"
    }
   ],
   "source": [
    "# Analisando quais colunas possuem valores ausentes no dataset de teste e quantos são esses valores\n",
    "\n",
    "df_test.isnull().sum()"
   ]
  },
  {
   "cell_type": "markdown",
   "id": "04108d66",
   "metadata": {},
   "source": [
    "#### 2.2.1 Feature Age"
   ]
  },
  {
   "cell_type": "code",
   "execution_count": 9,
   "id": "27a2be0b",
   "metadata": {},
   "outputs": [
    {
     "data": {
      "text/plain": [
       "0      22.0\n",
       "1      38.0\n",
       "2      26.0\n",
       "3      35.0\n",
       "4      35.0\n",
       "       ... \n",
       "886    27.0\n",
       "887    19.0\n",
       "888     NaN\n",
       "889    26.0\n",
       "890    32.0\n",
       "Name: Age, Length: 891, dtype: float64"
      ]
     },
     "execution_count": 9,
     "metadata": {},
     "output_type": "execute_result"
    }
   ],
   "source": [
    "# Observando a coluna Age\n",
    "\n",
    "df_train['Age']"
   ]
  },
  {
   "cell_type": "markdown",
   "id": "64318512",
   "metadata": {},
   "source": [
    "Conforme visto a cima são 177 valores ausentes na coluna Age . Vamos substituir esses valores ausentes pela média dessa coluna (obviamente para o cálculo da média utilizaremos somente os dados que não são NaN)."
   ]
  },
  {
   "cell_type": "code",
   "execution_count": 10,
   "id": "949728ca",
   "metadata": {},
   "outputs": [],
   "source": [
    "idade_média = df_train['Age'].mean()"
   ]
  },
  {
   "cell_type": "code",
   "execution_count": 11,
   "id": "c893e1bc",
   "metadata": {},
   "outputs": [
    {
     "data": {
      "text/plain": [
       "29.69911764705882"
      ]
     },
     "execution_count": 11,
     "metadata": {},
     "output_type": "execute_result"
    }
   ],
   "source": [
    "idade_média"
   ]
  },
  {
   "cell_type": "code",
   "execution_count": 12,
   "id": "80aee5f3",
   "metadata": {},
   "outputs": [],
   "source": [
    "# Imputando a idade média nos valores ausentes\n",
    "\n",
    "df_train.loc[df_train['Age'].isnull() , 'Age'] = idade_média"
   ]
  },
  {
   "cell_type": "code",
   "execution_count": 13,
   "id": "9896a0bb",
   "metadata": {},
   "outputs": [
    {
     "data": {
      "text/plain": [
       "0"
      ]
     },
     "execution_count": 13,
     "metadata": {},
     "output_type": "execute_result"
    }
   ],
   "source": [
    "# De fato não temos mais nenhum valor ausente na coluna Age\n",
    "\n",
    "sum(df_train['Age'].isnull())"
   ]
  },
  {
   "cell_type": "markdown",
   "id": "9b62fd8c",
   "metadata": {},
   "source": [
    "Ao final deste projeto faremos prediçoes no conjunto de teste logo este também não pode ter valores ausentes . Devemos então replicar todas as mudanças feitas no nosso conjunto de treino no nosso conjunto de teste."
   ]
  },
  {
   "cell_type": "code",
   "execution_count": 14,
   "id": "6b5f243b",
   "metadata": {},
   "outputs": [
    {
     "data": {
      "text/plain": [
       "86"
      ]
     },
     "execution_count": 14,
     "metadata": {},
     "output_type": "execute_result"
    }
   ],
   "source": [
    "# Descobrindo quantos valores ausentes temos na coluna Age do conjunto de teste\n",
    "\n",
    "sum(df_test['Age'].isnull())"
   ]
  },
  {
   "cell_type": "code",
   "execution_count": 15,
   "id": "f1d7d74e",
   "metadata": {},
   "outputs": [],
   "source": [
    "# Imputando a idade média do conjunto de treino no nosso dataset de teste\n",
    "\n",
    "df_test.loc[df_test['Age'].isnull() , 'Age'] = idade_média"
   ]
  },
  {
   "cell_type": "code",
   "execution_count": 16,
   "id": "fd84c582",
   "metadata": {},
   "outputs": [
    {
     "data": {
      "text/plain": [
       "0"
      ]
     },
     "execution_count": 16,
     "metadata": {},
     "output_type": "execute_result"
    }
   ],
   "source": [
    "# Repare como não temos mais valores ausentes na coluna Age do dataset de teste\n",
    "\n",
    "sum(df_test['Age'].isnull())"
   ]
  },
  {
   "cell_type": "markdown",
   "id": "7ab4718d",
   "metadata": {},
   "source": [
    "#### 2.2.2 Cabin"
   ]
  },
  {
   "cell_type": "code",
   "execution_count": 17,
   "id": "bd9eed9f",
   "metadata": {},
   "outputs": [
    {
     "data": {
      "text/plain": [
       "0       NaN\n",
       "1       C85\n",
       "2       NaN\n",
       "3      C123\n",
       "4       NaN\n",
       "       ... \n",
       "886     NaN\n",
       "887     B42\n",
       "888     NaN\n",
       "889    C148\n",
       "890     NaN\n",
       "Name: Cabin, Length: 891, dtype: object"
      ]
     },
     "execution_count": 17,
     "metadata": {},
     "output_type": "execute_result"
    }
   ],
   "source": [
    "# Observando a coluna Cabin\n",
    "\n",
    "df_train['Cabin']"
   ]
  },
  {
   "cell_type": "markdown",
   "id": "ca13cbae",
   "metadata": {},
   "source": [
    "De um total de 891 amostras presentes no conjunto de treino temos 687 NaNs . Aqui não faremos nenhuma imputação e sim criaremos\n",
    "uma nova variável que indica para cada amostra se temos ou se não temos a informação da cabine. Isso será feito no tópico de Feature Engineering."
   ]
  },
  {
   "cell_type": "markdown",
   "id": "2da9ef62",
   "metadata": {},
   "source": [
    "#### 2.2.3 Embarked"
   ]
  },
  {
   "cell_type": "code",
   "execution_count": 18,
   "id": "9ac09c7d",
   "metadata": {},
   "outputs": [
    {
     "data": {
      "text/plain": [
       "S    644\n",
       "C    168\n",
       "Q     77\n",
       "Name: Embarked, dtype: int64"
      ]
     },
     "execution_count": 18,
     "metadata": {},
     "output_type": "execute_result"
    }
   ],
   "source": [
    "# Observando quantos são os possíveis valores da variável categórica Embarked e qual a sua distribuição\n",
    "\n",
    "df_train['Embarked'].value_counts()"
   ]
  },
  {
   "cell_type": "markdown",
   "id": "03b595a2",
   "metadata": {},
   "source": [
    "Como temos apenas dois valores ausentes para Embarked vamos imputar nesses valores ausentes a categoria mais comum que é **S** conforme visto a cima ."
   ]
  },
  {
   "cell_type": "code",
   "execution_count": 19,
   "id": "1fc58e56",
   "metadata": {},
   "outputs": [],
   "source": [
    "df_train.loc[df_train['Embarked'].isnull() , 'Embarked'] = 'S'"
   ]
  },
  {
   "cell_type": "code",
   "execution_count": 20,
   "id": "ce641a34",
   "metadata": {},
   "outputs": [
    {
     "data": {
      "text/plain": [
       "0"
      ]
     },
     "execution_count": 20,
     "metadata": {},
     "output_type": "execute_result"
    }
   ],
   "source": [
    "# Não temos mais valores NaN na coluna Embarked\n",
    "\n",
    "sum(df_train['Embarked'].isnull())"
   ]
  },
  {
   "cell_type": "markdown",
   "id": "020a4113",
   "metadata": {},
   "source": [
    "#### 2.2.4 Fare"
   ]
  },
  {
   "cell_type": "markdown",
   "id": "1ec868ee",
   "metadata": {},
   "source": [
    "Fare é uma variável numérica e possui somente um valor ausente . Vamos imputar nesse valor ausente a mediana já que 75% dos valores de Fare são inferiores a 31 e a média de Fare é aproximadamente 32.2 . Aqui não deve fazer muita diferença imputar a mediana ou a média já que temos apenas um valor ausente."
   ]
  },
  {
   "cell_type": "code",
   "execution_count": 21,
   "id": "0ed84603",
   "metadata": {},
   "outputs": [],
   "source": [
    "fare_median = df_train['Fare'].median()"
   ]
  },
  {
   "cell_type": "code",
   "execution_count": 22,
   "id": "b6163c85",
   "metadata": {},
   "outputs": [],
   "source": [
    "df_test.loc[df_test['Fare'].isnull() , 'Fare'] = fare_median"
   ]
  },
  {
   "cell_type": "code",
   "execution_count": 23,
   "id": "bab42265",
   "metadata": {},
   "outputs": [
    {
     "data": {
      "text/plain": [
       "0"
      ]
     },
     "execution_count": 23,
     "metadata": {},
     "output_type": "execute_result"
    }
   ],
   "source": [
    "# Não temos mais valores NaN na coluna Fare\n",
    "\n",
    "sum(df_test['Fare'].isnull())"
   ]
  },
  {
   "cell_type": "markdown",
   "id": "5d32c1af",
   "metadata": {},
   "source": [
    "### 2.3 Feature Scaling"
   ]
  },
  {
   "cell_type": "markdown",
   "id": "d703bcad",
   "metadata": {},
   "source": [
    "<p style='text-align: justify;'> Feature Scaling ou Dimensionamento de Recursos é quase sempre uma parte essencial de um projeto a não ser que estejamos treinando somente árvores de decisão por exemplo .Algumas variáveis possum variância alta (assumem valores em um intervalo muito grande) e isso acaba por impactar o treinamento dos modelos uma vez que muitos algoritmos de Machine Learning calculam distâncias entre os pontos das amostras e se os dados estiverem em escalas diferentes teremos valores muito elevados o que causará problemas em nossas previsões.</p>\n",
    "    \n",
    "    \n",
    "<p style='text-align: justify;'>Existem várias maneiras de padronizar a escala de nossas features, porém vamos escolher a função StandardScaler do Scikit-Learn para obrigar cada variável a ter média 0 e desvio-padrão 1 (aproximar uma distribuição normal) e além é claro de diminuir o range da variável. </p>\n"
   ]
  },
  {
   "cell_type": "code",
   "execution_count": 24,
   "id": "70f0ca57",
   "metadata": {},
   "outputs": [],
   "source": [
    "# Instanciando o método\n",
    "\n",
    "SS = StandardScaler()"
   ]
  },
  {
   "cell_type": "markdown",
   "id": "40557f7f",
   "metadata": {},
   "source": [
    "As variáveis que possuem um range de valores elevado são Age e Fare e, por isso, vamos dimensioná-las. Criaremos duas novas colunas nos conjuntos de treino e teste : Age_SS e Fare_SS ."
   ]
  },
  {
   "cell_type": "markdown",
   "id": "0acab87d",
   "metadata": {},
   "source": [
    "Optamos por criar duas novas colunas, pois as colunas Age e Fare sem dimensionamento podem ser úteis para criarmos novas variáveis em algum momento do projeto."
   ]
  },
  {
   "cell_type": "code",
   "execution_count": 25,
   "id": "78045bf6",
   "metadata": {},
   "outputs": [],
   "source": [
    "# Aplicando StandardScaler nos datasets de treino e teste\n",
    "\n",
    "df_train['Age_SS'] = SS.fit_transform(df_train[['Age']])\n",
    "df_test['Age_SS'] = SS.fit_transform(df_test[['Age']])\n",
    "df_train['Fare_SS'] = SS.fit_transform(df_train[['Fare']])\n",
    "df_test['Fare_SS'] = SS.fit_transform(df_test[['Fare']])"
   ]
  },
  {
   "cell_type": "code",
   "execution_count": 26,
   "id": "dbf430ea",
   "metadata": {},
   "outputs": [
    {
     "data": {
      "text/plain": [
       "(2.5627959662152535e-16, 1.0000000000000009)"
      ]
     },
     "execution_count": 26,
     "metadata": {},
     "output_type": "execute_result"
    }
   ],
   "source": [
    "# Funciona !\n",
    "\n",
    "np.mean(df_train['Age_SS']) , np.std(df_train['Age_SS'])\n",
    "\n",
    "\n"
   ]
  },
  {
   "cell_type": "markdown",
   "id": "00ceea0c",
   "metadata": {},
   "source": [
    "## <center>3. Feature Engineering<center>"
   ]
  },
  {
   "cell_type": "markdown",
   "id": "bb9a8b7e",
   "metadata": {},
   "source": [
    "### 3.1 Tratamento de Variáveis Categóricas"
   ]
  },
  {
   "cell_type": "markdown",
   "id": "3d1153a2",
   "metadata": {},
   "source": [
    "<p style='text-align: justify;'>Variáveis categóricas são variáveis não numéricas que podem ser divididas em categorias . Infelizmente o Scikit-Learn não aceita dados que não sejam numéricos em seus modelos e, por isso, precisamos transformar esses dados categóricos em dados numéricos. Temos duas variáveis categóricas no dataset do Titanic : Sex e Embarked.</p>"
   ]
  },
  {
   "cell_type": "markdown",
   "id": "e4a43e3a",
   "metadata": {},
   "source": [
    "#### 3.1.1 Sex"
   ]
  },
  {
   "cell_type": "markdown",
   "id": "05b3280c",
   "metadata": {},
   "source": [
    "A variável Sex possui duas categorias : male e female. Vamos criar uma nova coluna Sex_encoding que fornece o valor 1 para male e 0 para female."
   ]
  },
  {
   "cell_type": "code",
   "execution_count": 27,
   "id": "6aa6d10c",
   "metadata": {},
   "outputs": [],
   "source": [
    "# Utilizando LabelEncoder para criar a coluna Sex_encoding nos conjuntos de treino e teste\n",
    "\n",
    "df_train['Sex_encoding'] = LabelEncoder().fit_transform(df_train['Sex'])\n",
    "df_test['Sex_encoding'] = LabelEncoder().fit_transform(df_test['Sex'])"
   ]
  },
  {
   "cell_type": "code",
   "execution_count": 28,
   "id": "4afdd9f8",
   "metadata": {},
   "outputs": [
    {
     "data": {
      "text/html": [
       "<div>\n",
       "<style scoped>\n",
       "    .dataframe tbody tr th:only-of-type {\n",
       "        vertical-align: middle;\n",
       "    }\n",
       "\n",
       "    .dataframe tbody tr th {\n",
       "        vertical-align: top;\n",
       "    }\n",
       "\n",
       "    .dataframe thead th {\n",
       "        text-align: right;\n",
       "    }\n",
       "</style>\n",
       "<table border=\"1\" class=\"dataframe\">\n",
       "  <thead>\n",
       "    <tr style=\"text-align: right;\">\n",
       "      <th></th>\n",
       "      <th>Sex</th>\n",
       "      <th>Sex_encoding</th>\n",
       "    </tr>\n",
       "  </thead>\n",
       "  <tbody>\n",
       "    <tr>\n",
       "      <th>0</th>\n",
       "      <td>male</td>\n",
       "      <td>1</td>\n",
       "    </tr>\n",
       "    <tr>\n",
       "      <th>1</th>\n",
       "      <td>female</td>\n",
       "      <td>0</td>\n",
       "    </tr>\n",
       "    <tr>\n",
       "      <th>2</th>\n",
       "      <td>female</td>\n",
       "      <td>0</td>\n",
       "    </tr>\n",
       "    <tr>\n",
       "      <th>3</th>\n",
       "      <td>female</td>\n",
       "      <td>0</td>\n",
       "    </tr>\n",
       "    <tr>\n",
       "      <th>4</th>\n",
       "      <td>male</td>\n",
       "      <td>1</td>\n",
       "    </tr>\n",
       "  </tbody>\n",
       "</table>\n",
       "</div>"
      ],
      "text/plain": [
       "      Sex  Sex_encoding\n",
       "0    male             1\n",
       "1  female             0\n",
       "2  female             0\n",
       "3  female             0\n",
       "4    male             1"
      ]
     },
     "execution_count": 28,
     "metadata": {},
     "output_type": "execute_result"
    }
   ],
   "source": [
    "# Funciona !\n",
    "df_train[['Sex' , 'Sex_encoding']].head()"
   ]
  },
  {
   "cell_type": "markdown",
   "id": "677d0c5a",
   "metadata": {},
   "source": [
    "#### 3.1.2 Embarked"
   ]
  },
  {
   "cell_type": "markdown",
   "id": "3296d320",
   "metadata": {},
   "source": [
    "A variável Embarked possui 3 categorias : S , C e Q. Poderíamos criar uma variável que fornece o valor 0 para S, 1 para C e 2 para Q, porém dessa forma estaríamos dando um peso para cada categoria e, assim, nosso modelo poderia, por exemplo, interpretar que a variável Q é mais importante que as outras. Sendo assim, a melhor abordagem é criarmos 3 novas variáveis usando a função get_dummies do pandas."
   ]
  },
  {
   "cell_type": "code",
   "execution_count": 29,
   "id": "07a39925",
   "metadata": {},
   "outputs": [
    {
     "data": {
      "text/html": [
       "<div>\n",
       "<style scoped>\n",
       "    .dataframe tbody tr th:only-of-type {\n",
       "        vertical-align: middle;\n",
       "    }\n",
       "\n",
       "    .dataframe tbody tr th {\n",
       "        vertical-align: top;\n",
       "    }\n",
       "\n",
       "    .dataframe thead th {\n",
       "        text-align: right;\n",
       "    }\n",
       "</style>\n",
       "<table border=\"1\" class=\"dataframe\">\n",
       "  <thead>\n",
       "    <tr style=\"text-align: right;\">\n",
       "      <th></th>\n",
       "      <th>C</th>\n",
       "      <th>Q</th>\n",
       "      <th>S</th>\n",
       "    </tr>\n",
       "  </thead>\n",
       "  <tbody>\n",
       "    <tr>\n",
       "      <th>0</th>\n",
       "      <td>0</td>\n",
       "      <td>0</td>\n",
       "      <td>1</td>\n",
       "    </tr>\n",
       "    <tr>\n",
       "      <th>1</th>\n",
       "      <td>1</td>\n",
       "      <td>0</td>\n",
       "      <td>0</td>\n",
       "    </tr>\n",
       "    <tr>\n",
       "      <th>2</th>\n",
       "      <td>0</td>\n",
       "      <td>0</td>\n",
       "      <td>1</td>\n",
       "    </tr>\n",
       "    <tr>\n",
       "      <th>3</th>\n",
       "      <td>0</td>\n",
       "      <td>0</td>\n",
       "      <td>1</td>\n",
       "    </tr>\n",
       "    <tr>\n",
       "      <th>4</th>\n",
       "      <td>0</td>\n",
       "      <td>0</td>\n",
       "      <td>1</td>\n",
       "    </tr>\n",
       "    <tr>\n",
       "      <th>...</th>\n",
       "      <td>...</td>\n",
       "      <td>...</td>\n",
       "      <td>...</td>\n",
       "    </tr>\n",
       "    <tr>\n",
       "      <th>886</th>\n",
       "      <td>0</td>\n",
       "      <td>0</td>\n",
       "      <td>1</td>\n",
       "    </tr>\n",
       "    <tr>\n",
       "      <th>887</th>\n",
       "      <td>0</td>\n",
       "      <td>0</td>\n",
       "      <td>1</td>\n",
       "    </tr>\n",
       "    <tr>\n",
       "      <th>888</th>\n",
       "      <td>0</td>\n",
       "      <td>0</td>\n",
       "      <td>1</td>\n",
       "    </tr>\n",
       "    <tr>\n",
       "      <th>889</th>\n",
       "      <td>1</td>\n",
       "      <td>0</td>\n",
       "      <td>0</td>\n",
       "    </tr>\n",
       "    <tr>\n",
       "      <th>890</th>\n",
       "      <td>0</td>\n",
       "      <td>1</td>\n",
       "      <td>0</td>\n",
       "    </tr>\n",
       "  </tbody>\n",
       "</table>\n",
       "<p>891 rows × 3 columns</p>\n",
       "</div>"
      ],
      "text/plain": [
       "     C  Q  S\n",
       "0    0  0  1\n",
       "1    1  0  0\n",
       "2    0  0  1\n",
       "3    0  0  1\n",
       "4    0  0  1\n",
       "..  .. .. ..\n",
       "886  0  0  1\n",
       "887  0  0  1\n",
       "888  0  0  1\n",
       "889  1  0  0\n",
       "890  0  1  0\n",
       "\n",
       "[891 rows x 3 columns]"
      ]
     },
     "execution_count": 29,
     "metadata": {},
     "output_type": "execute_result"
    }
   ],
   "source": [
    "pd.get_dummies(df_train['Embarked'])"
   ]
  },
  {
   "cell_type": "markdown",
   "id": "81771fcd",
   "metadata": {},
   "source": [
    "<p style='text-align: justify;'>A variável C indica se o porto de embarque é o porto C ou não . Se o porto de embarque for o C então a variável C recebe o valor 1, se não for a variável C recebe o valor 0 . O processo é idêntico para as variáveis Q e S . Repare por exemplo que na primeira linha temos C = 0 , Q = 0 e S = 1 o que nos indica que o porto de embarque foi o S.</p>"
   ]
  },
  {
   "cell_type": "code",
   "execution_count": 30,
   "id": "71f45371",
   "metadata": {},
   "outputs": [],
   "source": [
    "# Anexando as variáveis C, Q e S ao dataset de treino\n",
    "\n",
    "df_train = pd.concat([df_train , pd.get_dummies(df_train['Embarked'])] , axis = 1)"
   ]
  },
  {
   "cell_type": "code",
   "execution_count": 31,
   "id": "bb9c4053",
   "metadata": {},
   "outputs": [
    {
     "data": {
      "text/html": [
       "<div>\n",
       "<style scoped>\n",
       "    .dataframe tbody tr th:only-of-type {\n",
       "        vertical-align: middle;\n",
       "    }\n",
       "\n",
       "    .dataframe tbody tr th {\n",
       "        vertical-align: top;\n",
       "    }\n",
       "\n",
       "    .dataframe thead th {\n",
       "        text-align: right;\n",
       "    }\n",
       "</style>\n",
       "<table border=\"1\" class=\"dataframe\">\n",
       "  <thead>\n",
       "    <tr style=\"text-align: right;\">\n",
       "      <th></th>\n",
       "      <th>Embarked</th>\n",
       "      <th>C</th>\n",
       "      <th>Q</th>\n",
       "      <th>S</th>\n",
       "    </tr>\n",
       "  </thead>\n",
       "  <tbody>\n",
       "    <tr>\n",
       "      <th>0</th>\n",
       "      <td>S</td>\n",
       "      <td>0</td>\n",
       "      <td>0</td>\n",
       "      <td>1</td>\n",
       "    </tr>\n",
       "    <tr>\n",
       "      <th>1</th>\n",
       "      <td>C</td>\n",
       "      <td>1</td>\n",
       "      <td>0</td>\n",
       "      <td>0</td>\n",
       "    </tr>\n",
       "    <tr>\n",
       "      <th>2</th>\n",
       "      <td>S</td>\n",
       "      <td>0</td>\n",
       "      <td>0</td>\n",
       "      <td>1</td>\n",
       "    </tr>\n",
       "    <tr>\n",
       "      <th>3</th>\n",
       "      <td>S</td>\n",
       "      <td>0</td>\n",
       "      <td>0</td>\n",
       "      <td>1</td>\n",
       "    </tr>\n",
       "    <tr>\n",
       "      <th>4</th>\n",
       "      <td>S</td>\n",
       "      <td>0</td>\n",
       "      <td>0</td>\n",
       "      <td>1</td>\n",
       "    </tr>\n",
       "  </tbody>\n",
       "</table>\n",
       "</div>"
      ],
      "text/plain": [
       "  Embarked  C  Q  S\n",
       "0        S  0  0  1\n",
       "1        C  1  0  0\n",
       "2        S  0  0  1\n",
       "3        S  0  0  1\n",
       "4        S  0  0  1"
      ]
     },
     "execution_count": 31,
     "metadata": {},
     "output_type": "execute_result"
    }
   ],
   "source": [
    "df_train[['Embarked' , 'C' , 'Q' , 'S']].head()"
   ]
  },
  {
   "cell_type": "code",
   "execution_count": 32,
   "id": "3c0cb435",
   "metadata": {},
   "outputs": [],
   "source": [
    "# Repetindo o processo para o dataset de teste\n",
    "\n",
    "df_test = pd.concat([df_test , pd.get_dummies(df_test['Embarked'])] , axis = 1)"
   ]
  },
  {
   "cell_type": "code",
   "execution_count": 33,
   "id": "eb154166",
   "metadata": {},
   "outputs": [
    {
     "data": {
      "text/html": [
       "<div>\n",
       "<style scoped>\n",
       "    .dataframe tbody tr th:only-of-type {\n",
       "        vertical-align: middle;\n",
       "    }\n",
       "\n",
       "    .dataframe tbody tr th {\n",
       "        vertical-align: top;\n",
       "    }\n",
       "\n",
       "    .dataframe thead th {\n",
       "        text-align: right;\n",
       "    }\n",
       "</style>\n",
       "<table border=\"1\" class=\"dataframe\">\n",
       "  <thead>\n",
       "    <tr style=\"text-align: right;\">\n",
       "      <th></th>\n",
       "      <th>Embarked</th>\n",
       "      <th>C</th>\n",
       "      <th>Q</th>\n",
       "      <th>S</th>\n",
       "    </tr>\n",
       "  </thead>\n",
       "  <tbody>\n",
       "    <tr>\n",
       "      <th>0</th>\n",
       "      <td>Q</td>\n",
       "      <td>0</td>\n",
       "      <td>1</td>\n",
       "      <td>0</td>\n",
       "    </tr>\n",
       "    <tr>\n",
       "      <th>1</th>\n",
       "      <td>S</td>\n",
       "      <td>0</td>\n",
       "      <td>0</td>\n",
       "      <td>1</td>\n",
       "    </tr>\n",
       "    <tr>\n",
       "      <th>2</th>\n",
       "      <td>Q</td>\n",
       "      <td>0</td>\n",
       "      <td>1</td>\n",
       "      <td>0</td>\n",
       "    </tr>\n",
       "    <tr>\n",
       "      <th>3</th>\n",
       "      <td>S</td>\n",
       "      <td>0</td>\n",
       "      <td>0</td>\n",
       "      <td>1</td>\n",
       "    </tr>\n",
       "    <tr>\n",
       "      <th>4</th>\n",
       "      <td>S</td>\n",
       "      <td>0</td>\n",
       "      <td>0</td>\n",
       "      <td>1</td>\n",
       "    </tr>\n",
       "  </tbody>\n",
       "</table>\n",
       "</div>"
      ],
      "text/plain": [
       "  Embarked  C  Q  S\n",
       "0        Q  0  1  0\n",
       "1        S  0  0  1\n",
       "2        Q  0  1  0\n",
       "3        S  0  0  1\n",
       "4        S  0  0  1"
      ]
     },
     "execution_count": 33,
     "metadata": {},
     "output_type": "execute_result"
    }
   ],
   "source": [
    "df_test[['Embarked' , 'C' , 'Q' , 'S']].head()"
   ]
  },
  {
   "cell_type": "markdown",
   "id": "2ffdb09a",
   "metadata": {},
   "source": [
    "### 3.2 Criação de Novas Variáveis"
   ]
  },
  {
   "cell_type": "markdown",
   "id": "60658121",
   "metadata": {},
   "source": [
    "#### 3.2.1 SibSp+Parch"
   ]
  },
  {
   "cell_type": "markdown",
   "id": "89053bf1",
   "metadata": {},
   "source": [
    "<p style='text-align: justify;'>SibSp refere-se ao número de irmãos + cônjuges de cada indivíduo presentes no Titanic e Parch refere-se à quantidade total entre filhos, pai e mãe presentes no Titanic. É de se esperar que a soma SibSp+Parch seja uma variável com valor preditivo quando se quer prever se alguém sobreviveu ou não. Vamos então criar a variável SibSp+Parch.</p>"
   ]
  },
  {
   "cell_type": "code",
   "execution_count": 34,
   "id": "8dacf3b3",
   "metadata": {},
   "outputs": [],
   "source": [
    "# Criando SibSp+Parch\n",
    "\n",
    "df_train['SibSp+Parch'] = df_train['SibSp'] + df_train['Parch']\n",
    "df_test['SibSp+Parch'] = df_test['SibSp'] + df_test['Parch']"
   ]
  },
  {
   "cell_type": "markdown",
   "id": "b867a731",
   "metadata": {},
   "source": [
    "#### 3.2.2 Pronome"
   ]
  },
  {
   "cell_type": "markdown",
   "id": "a62026d4",
   "metadata": {},
   "source": [
    "Vamos prestar atenção na coluna Name :"
   ]
  },
  {
   "cell_type": "code",
   "execution_count": 35,
   "id": "bea01973",
   "metadata": {},
   "outputs": [
    {
     "data": {
      "text/plain": [
       "0                              Braund, Mr. Owen Harris\n",
       "1    Cumings, Mrs. John Bradley (Florence Briggs Th...\n",
       "2                               Heikkinen, Miss. Laina\n",
       "3         Futrelle, Mrs. Jacques Heath (Lily May Peel)\n",
       "4                             Allen, Mr. William Henry\n",
       "Name: Name, dtype: object"
      ]
     },
     "execution_count": 35,
     "metadata": {},
     "output_type": "execute_result"
    }
   ],
   "source": [
    "df_train['Name'].head()"
   ]
  },
  {
   "cell_type": "markdown",
   "id": "5a308d63",
   "metadata": {},
   "source": [
    "<p style='text-align: justify;'>Repare que cada nome possui um pronome de tratamento e é bem possível que esse pronome de tratamento possua bom valor preditivo já que indivíduos com o pronome Mrs., por exemplo, geralmente possuem idade superior a indivíduos com o pronome Miss. e sabemos que a idade é um fator importante na sobrevivência ao desastre do Titanic. Portanto vamos criar uma variável chamada Pronome que contém o pronome presente no nome de cada indivíduo. Os pronomes Mr. , Miss. , Mrs. e Master são os pronomes que mais aparecem logo se um desses pronomes não estiver no nome do indivíduo a variável Pronome receberá o valor 'Outro'. </p>"
   ]
  },
  {
   "cell_type": "code",
   "execution_count": 36,
   "id": "a191c235",
   "metadata": {},
   "outputs": [
    {
     "data": {
      "text/plain": [
       "0                           [Braund,, Mr., Owen, Harris]\n",
       "1      [Cumings,, Mrs., John, Bradley, (Florence, Bri...\n",
       "2                             [Heikkinen,, Miss., Laina]\n",
       "3      [Futrelle,, Mrs., Jacques, Heath, (Lily, May, ...\n",
       "4                          [Allen,, Mr., William, Henry]\n",
       "                             ...                        \n",
       "886                            [Montvila,, Rev., Juozas]\n",
       "887                    [Graham,, Miss., Margaret, Edith]\n",
       "888       [Johnston,, Miss., Catherine, Helen, \"Carrie\"]\n",
       "889                           [Behr,, Mr., Karl, Howell]\n",
       "890                              [Dooley,, Mr., Patrick]\n",
       "Name: Name, Length: 891, dtype: object"
      ]
     },
     "execution_count": 36,
     "metadata": {},
     "output_type": "execute_result"
    }
   ],
   "source": [
    "df_train['Name'].str.split()"
   ]
  },
  {
   "cell_type": "code",
   "execution_count": 37,
   "id": "8bcf5ee4",
   "metadata": {},
   "outputs": [],
   "source": [
    "# Extraindo o pronome de cada nome e colocando na lista pronomes\n",
    "\n",
    "pronomes = []\n",
    "for i in df_train['Name'].str.split() :\n",
    "    if 'Mr.' in i :\n",
    "        pronomes.append('Mr.')\n",
    "    elif 'Miss.' in i :\n",
    "        pronomes.append('Miss.')\n",
    "    elif 'Mrs.' in i :\n",
    "        pronomes.append('Mrs.')\n",
    "    elif 'Master.' in i :\n",
    "        pronomes.append('Master.')\n",
    "    else :\n",
    "        pronomes.append('Outro')"
   ]
  },
  {
   "cell_type": "code",
   "execution_count": 38,
   "id": "cd4b0937",
   "metadata": {},
   "outputs": [
    {
     "data": {
      "text/plain": [
       "True"
      ]
     },
     "execution_count": 38,
     "metadata": {},
     "output_type": "execute_result"
    }
   ],
   "source": [
    "# Fazendo uma conferência simples\n",
    "\n",
    "len(pronomes) == df_train.shape[0]"
   ]
  },
  {
   "cell_type": "code",
   "execution_count": 39,
   "id": "7fea876c",
   "metadata": {},
   "outputs": [],
   "source": [
    "# Criando a coluna Pronome\n",
    "\n",
    "df_train['Pronome'] = pronomes"
   ]
  },
  {
   "cell_type": "code",
   "execution_count": 40,
   "id": "4c1265dd",
   "metadata": {},
   "outputs": [
    {
     "data": {
      "text/plain": [
       "Mr.        517\n",
       "Miss.      182\n",
       "Mrs.       125\n",
       "Master.     40\n",
       "Outro       27\n",
       "Name: Pronome, dtype: int64"
      ]
     },
     "execution_count": 40,
     "metadata": {},
     "output_type": "execute_result"
    }
   ],
   "source": [
    "df_train['Pronome'].value_counts()"
   ]
  },
  {
   "cell_type": "code",
   "execution_count": 41,
   "id": "b32ffb35",
   "metadata": {},
   "outputs": [],
   "source": [
    "# Repetindo o processo para o conjunto de teste\n",
    "pronomes_test = []\n",
    "for i in df_test['Name'].str.split() :\n",
    "    if 'Mr.' in i :\n",
    "        pronomes_test.append('Mr.')\n",
    "    elif 'Miss.' in i :\n",
    "        pronomes_test.append('Miss.')\n",
    "    elif 'Mrs.' in i :\n",
    "        pronomes_test.append('Mrs.')\n",
    "    elif 'Master.' in i :\n",
    "        pronomes_test.append('Master.')\n",
    "    else :\n",
    "        pronomes_test.append('Outro')"
   ]
  },
  {
   "cell_type": "code",
   "execution_count": 42,
   "id": "3ac3174e",
   "metadata": {},
   "outputs": [
    {
     "data": {
      "text/plain": [
       "True"
      ]
     },
     "execution_count": 42,
     "metadata": {},
     "output_type": "execute_result"
    }
   ],
   "source": [
    "len(pronomes_test) == df_test.shape[0]"
   ]
  },
  {
   "cell_type": "code",
   "execution_count": 43,
   "id": "20f51d34",
   "metadata": {},
   "outputs": [],
   "source": [
    "df_test['Pronome'] = pronomes_test"
   ]
  },
  {
   "cell_type": "code",
   "execution_count": 44,
   "id": "081cef3a",
   "metadata": {},
   "outputs": [
    {
     "data": {
      "text/html": [
       "<div>\n",
       "<style scoped>\n",
       "    .dataframe tbody tr th:only-of-type {\n",
       "        vertical-align: middle;\n",
       "    }\n",
       "\n",
       "    .dataframe tbody tr th {\n",
       "        vertical-align: top;\n",
       "    }\n",
       "\n",
       "    .dataframe thead th {\n",
       "        text-align: right;\n",
       "    }\n",
       "</style>\n",
       "<table border=\"1\" class=\"dataframe\">\n",
       "  <thead>\n",
       "    <tr style=\"text-align: right;\">\n",
       "      <th></th>\n",
       "      <th>Name</th>\n",
       "      <th>Pronome</th>\n",
       "    </tr>\n",
       "  </thead>\n",
       "  <tbody>\n",
       "    <tr>\n",
       "      <th>0</th>\n",
       "      <td>Kelly, Mr. James</td>\n",
       "      <td>Mr.</td>\n",
       "    </tr>\n",
       "    <tr>\n",
       "      <th>1</th>\n",
       "      <td>Wilkes, Mrs. James (Ellen Needs)</td>\n",
       "      <td>Mrs.</td>\n",
       "    </tr>\n",
       "    <tr>\n",
       "      <th>2</th>\n",
       "      <td>Myles, Mr. Thomas Francis</td>\n",
       "      <td>Mr.</td>\n",
       "    </tr>\n",
       "    <tr>\n",
       "      <th>3</th>\n",
       "      <td>Wirz, Mr. Albert</td>\n",
       "      <td>Mr.</td>\n",
       "    </tr>\n",
       "    <tr>\n",
       "      <th>4</th>\n",
       "      <td>Hirvonen, Mrs. Alexander (Helga E Lindqvist)</td>\n",
       "      <td>Mrs.</td>\n",
       "    </tr>\n",
       "    <tr>\n",
       "      <th>...</th>\n",
       "      <td>...</td>\n",
       "      <td>...</td>\n",
       "    </tr>\n",
       "    <tr>\n",
       "      <th>413</th>\n",
       "      <td>Spector, Mr. Woolf</td>\n",
       "      <td>Mr.</td>\n",
       "    </tr>\n",
       "    <tr>\n",
       "      <th>414</th>\n",
       "      <td>Oliva y Ocana, Dona. Fermina</td>\n",
       "      <td>Outro</td>\n",
       "    </tr>\n",
       "    <tr>\n",
       "      <th>415</th>\n",
       "      <td>Saether, Mr. Simon Sivertsen</td>\n",
       "      <td>Mr.</td>\n",
       "    </tr>\n",
       "    <tr>\n",
       "      <th>416</th>\n",
       "      <td>Ware, Mr. Frederick</td>\n",
       "      <td>Mr.</td>\n",
       "    </tr>\n",
       "    <tr>\n",
       "      <th>417</th>\n",
       "      <td>Peter, Master. Michael J</td>\n",
       "      <td>Master.</td>\n",
       "    </tr>\n",
       "  </tbody>\n",
       "</table>\n",
       "<p>418 rows × 2 columns</p>\n",
       "</div>"
      ],
      "text/plain": [
       "                                             Name  Pronome\n",
       "0                                Kelly, Mr. James      Mr.\n",
       "1                Wilkes, Mrs. James (Ellen Needs)     Mrs.\n",
       "2                       Myles, Mr. Thomas Francis      Mr.\n",
       "3                                Wirz, Mr. Albert      Mr.\n",
       "4    Hirvonen, Mrs. Alexander (Helga E Lindqvist)     Mrs.\n",
       "..                                            ...      ...\n",
       "413                            Spector, Mr. Woolf      Mr.\n",
       "414                  Oliva y Ocana, Dona. Fermina    Outro\n",
       "415                  Saether, Mr. Simon Sivertsen      Mr.\n",
       "416                           Ware, Mr. Frederick      Mr.\n",
       "417                      Peter, Master. Michael J  Master.\n",
       "\n",
       "[418 rows x 2 columns]"
      ]
     },
     "execution_count": 44,
     "metadata": {},
     "output_type": "execute_result"
    }
   ],
   "source": [
    "df_test[['Name' , 'Pronome']]"
   ]
  },
  {
   "cell_type": "markdown",
   "id": "7939f60a",
   "metadata": {},
   "source": [
    "<p style='text-align: justify;'>Agora como nossa variável Pronome é categórica precisamos aplicar novamente a função pd.get_dummies para criarmos mais 5 variáveis.</p>"
   ]
  },
  {
   "cell_type": "code",
   "execution_count": 45,
   "id": "05865c93",
   "metadata": {},
   "outputs": [],
   "source": [
    "df_train = pd.concat([df_train , pd.get_dummies(df_train['Pronome'])] , axis = 1)\n",
    "df_test = pd.concat([df_test , pd.get_dummies(df_test['Pronome'])] , axis = 1)"
   ]
  },
  {
   "cell_type": "code",
   "execution_count": 46,
   "id": "93f4cffa",
   "metadata": {},
   "outputs": [
    {
     "data": {
      "text/html": [
       "<div>\n",
       "<style scoped>\n",
       "    .dataframe tbody tr th:only-of-type {\n",
       "        vertical-align: middle;\n",
       "    }\n",
       "\n",
       "    .dataframe tbody tr th {\n",
       "        vertical-align: top;\n",
       "    }\n",
       "\n",
       "    .dataframe thead th {\n",
       "        text-align: right;\n",
       "    }\n",
       "</style>\n",
       "<table border=\"1\" class=\"dataframe\">\n",
       "  <thead>\n",
       "    <tr style=\"text-align: right;\">\n",
       "      <th></th>\n",
       "      <th>Pronome</th>\n",
       "      <th>Mr.</th>\n",
       "      <th>Mrs.</th>\n",
       "      <th>Miss.</th>\n",
       "      <th>Master.</th>\n",
       "      <th>Outro</th>\n",
       "    </tr>\n",
       "  </thead>\n",
       "  <tbody>\n",
       "    <tr>\n",
       "      <th>0</th>\n",
       "      <td>Mr.</td>\n",
       "      <td>1</td>\n",
       "      <td>0</td>\n",
       "      <td>0</td>\n",
       "      <td>0</td>\n",
       "      <td>0</td>\n",
       "    </tr>\n",
       "    <tr>\n",
       "      <th>1</th>\n",
       "      <td>Mrs.</td>\n",
       "      <td>0</td>\n",
       "      <td>1</td>\n",
       "      <td>0</td>\n",
       "      <td>0</td>\n",
       "      <td>0</td>\n",
       "    </tr>\n",
       "    <tr>\n",
       "      <th>2</th>\n",
       "      <td>Miss.</td>\n",
       "      <td>0</td>\n",
       "      <td>0</td>\n",
       "      <td>1</td>\n",
       "      <td>0</td>\n",
       "      <td>0</td>\n",
       "    </tr>\n",
       "    <tr>\n",
       "      <th>3</th>\n",
       "      <td>Mrs.</td>\n",
       "      <td>0</td>\n",
       "      <td>1</td>\n",
       "      <td>0</td>\n",
       "      <td>0</td>\n",
       "      <td>0</td>\n",
       "    </tr>\n",
       "    <tr>\n",
       "      <th>4</th>\n",
       "      <td>Mr.</td>\n",
       "      <td>1</td>\n",
       "      <td>0</td>\n",
       "      <td>0</td>\n",
       "      <td>0</td>\n",
       "      <td>0</td>\n",
       "    </tr>\n",
       "    <tr>\n",
       "      <th>...</th>\n",
       "      <td>...</td>\n",
       "      <td>...</td>\n",
       "      <td>...</td>\n",
       "      <td>...</td>\n",
       "      <td>...</td>\n",
       "      <td>...</td>\n",
       "    </tr>\n",
       "    <tr>\n",
       "      <th>886</th>\n",
       "      <td>Outro</td>\n",
       "      <td>0</td>\n",
       "      <td>0</td>\n",
       "      <td>0</td>\n",
       "      <td>0</td>\n",
       "      <td>1</td>\n",
       "    </tr>\n",
       "    <tr>\n",
       "      <th>887</th>\n",
       "      <td>Miss.</td>\n",
       "      <td>0</td>\n",
       "      <td>0</td>\n",
       "      <td>1</td>\n",
       "      <td>0</td>\n",
       "      <td>0</td>\n",
       "    </tr>\n",
       "    <tr>\n",
       "      <th>888</th>\n",
       "      <td>Miss.</td>\n",
       "      <td>0</td>\n",
       "      <td>0</td>\n",
       "      <td>1</td>\n",
       "      <td>0</td>\n",
       "      <td>0</td>\n",
       "    </tr>\n",
       "    <tr>\n",
       "      <th>889</th>\n",
       "      <td>Mr.</td>\n",
       "      <td>1</td>\n",
       "      <td>0</td>\n",
       "      <td>0</td>\n",
       "      <td>0</td>\n",
       "      <td>0</td>\n",
       "    </tr>\n",
       "    <tr>\n",
       "      <th>890</th>\n",
       "      <td>Mr.</td>\n",
       "      <td>1</td>\n",
       "      <td>0</td>\n",
       "      <td>0</td>\n",
       "      <td>0</td>\n",
       "      <td>0</td>\n",
       "    </tr>\n",
       "  </tbody>\n",
       "</table>\n",
       "<p>891 rows × 6 columns</p>\n",
       "</div>"
      ],
      "text/plain": [
       "    Pronome  Mr.  Mrs.  Miss.  Master.  Outro\n",
       "0       Mr.    1     0      0        0      0\n",
       "1      Mrs.    0     1      0        0      0\n",
       "2     Miss.    0     0      1        0      0\n",
       "3      Mrs.    0     1      0        0      0\n",
       "4       Mr.    1     0      0        0      0\n",
       "..      ...  ...   ...    ...      ...    ...\n",
       "886   Outro    0     0      0        0      1\n",
       "887   Miss.    0     0      1        0      0\n",
       "888   Miss.    0     0      1        0      0\n",
       "889     Mr.    1     0      0        0      0\n",
       "890     Mr.    1     0      0        0      0\n",
       "\n",
       "[891 rows x 6 columns]"
      ]
     },
     "execution_count": 46,
     "metadata": {},
     "output_type": "execute_result"
    }
   ],
   "source": [
    "df_train[['Pronome' , 'Mr.' , 'Mrs.' , 'Miss.' , 'Master.' , 'Outro']]"
   ]
  },
  {
   "cell_type": "markdown",
   "id": "a940a923",
   "metadata": {},
   "source": [
    "#### 3.2.3 Cabin"
   ]
  },
  {
   "cell_type": "markdown",
   "id": "f2fe1107",
   "metadata": {},
   "source": [
    "Conforme dito anteriormente Cabin possui 687 valores NaN no dataset de treino e 327 no dataset de teste . Vamos criar uma variável Cabin_Bool que recebe o valor 0 se Cabin = NaN e 1 se Cabin é diferente de NaN. O fato de não termos informação sobre a cabine que estava um passageiro pode ser um indicativo de não sobrevivência por exemplo."
   ]
  },
  {
   "cell_type": "code",
   "execution_count": 47,
   "id": "3c1ec9da",
   "metadata": {},
   "outputs": [],
   "source": [
    "df_train['Cabin_Bool'] = df_train['Cabin']\n",
    "df_train.loc[df_train['Cabin'].isnull() , 'Cabin_Bool'] = 0\n",
    "df_train.loc[df_train['Cabin'].notnull() , 'Cabin_Bool'] = 1\n",
    "\n",
    "df_test['Cabin_Bool'] = df_test['Cabin']\n",
    "df_test.loc[df_test['Cabin'].isnull() , 'Cabin_Bool'] = 0\n",
    "df_test.loc[df_test['Cabin'].notnull() , 'Cabin_Bool'] = 1"
   ]
  },
  {
   "cell_type": "markdown",
   "id": "4e1ee9ff",
   "metadata": {},
   "source": [
    "#### 3.2.4 Ticket"
   ]
  },
  {
   "cell_type": "markdown",
   "id": "79a6f442",
   "metadata": {},
   "source": [
    "Vamos dar uma olhada em todos os valores que aparecem na coluna Ticket e suas respectivas quantidades :"
   ]
  },
  {
   "cell_type": "code",
   "execution_count": 48,
   "id": "7fbdb992",
   "metadata": {},
   "outputs": [
    {
     "data": {
      "text/plain": [
       "347082      7\n",
       "CA. 2343    7\n",
       "1601        7\n",
       "3101295     6\n",
       "CA 2144     6\n",
       "           ..\n",
       "9234        1\n",
       "19988       1\n",
       "2693        1\n",
       "PC 17612    1\n",
       "370376      1\n",
       "Name: Ticket, Length: 681, dtype: int64"
      ]
     },
     "execution_count": 48,
     "metadata": {},
     "output_type": "execute_result"
    }
   ],
   "source": [
    "df_train['Ticket'].value_counts()"
   ]
  },
  {
   "cell_type": "markdown",
   "id": "29c693db",
   "metadata": {},
   "source": [
    "Repare que temos Tickets que possuem iniciais como CA , PC , STON/O, etc e outros que possuem somente números. Vamos criar uma variável Ticket2 que recebe 'Num' se o respectivo Ticket possui somente números e que no caso de não possuir números recebe as letras.  "
   ]
  },
  {
   "cell_type": "code",
   "execution_count": 49,
   "id": "4e32dbfe",
   "metadata": {},
   "outputs": [],
   "source": [
    "tickets = []\n",
    "for i in df_train['Ticket'].str.split() :\n",
    "    if len(i) == 1 :\n",
    "        tickets.append('Num')\n",
    "    else :\n",
    "        tickets.append(i[0])"
   ]
  },
  {
   "cell_type": "code",
   "execution_count": 50,
   "id": "fbd3e640",
   "metadata": {},
   "outputs": [],
   "source": [
    "df_train['Ticket2'] = tickets"
   ]
  },
  {
   "cell_type": "code",
   "execution_count": 51,
   "id": "11f63bad",
   "metadata": {},
   "outputs": [
    {
     "data": {
      "text/html": [
       "<div>\n",
       "<style scoped>\n",
       "    .dataframe tbody tr th:only-of-type {\n",
       "        vertical-align: middle;\n",
       "    }\n",
       "\n",
       "    .dataframe tbody tr th {\n",
       "        vertical-align: top;\n",
       "    }\n",
       "\n",
       "    .dataframe thead th {\n",
       "        text-align: right;\n",
       "    }\n",
       "</style>\n",
       "<table border=\"1\" class=\"dataframe\">\n",
       "  <thead>\n",
       "    <tr style=\"text-align: right;\">\n",
       "      <th></th>\n",
       "      <th>Ticket</th>\n",
       "      <th>Ticket2</th>\n",
       "    </tr>\n",
       "  </thead>\n",
       "  <tbody>\n",
       "    <tr>\n",
       "      <th>0</th>\n",
       "      <td>A/5 21171</td>\n",
       "      <td>A/5</td>\n",
       "    </tr>\n",
       "    <tr>\n",
       "      <th>1</th>\n",
       "      <td>PC 17599</td>\n",
       "      <td>PC</td>\n",
       "    </tr>\n",
       "    <tr>\n",
       "      <th>2</th>\n",
       "      <td>STON/O2. 3101282</td>\n",
       "      <td>STON/O2.</td>\n",
       "    </tr>\n",
       "    <tr>\n",
       "      <th>3</th>\n",
       "      <td>113803</td>\n",
       "      <td>Num</td>\n",
       "    </tr>\n",
       "    <tr>\n",
       "      <th>4</th>\n",
       "      <td>373450</td>\n",
       "      <td>Num</td>\n",
       "    </tr>\n",
       "  </tbody>\n",
       "</table>\n",
       "</div>"
      ],
      "text/plain": [
       "             Ticket   Ticket2\n",
       "0         A/5 21171       A/5\n",
       "1          PC 17599        PC\n",
       "2  STON/O2. 3101282  STON/O2.\n",
       "3            113803       Num\n",
       "4            373450       Num"
      ]
     },
     "execution_count": 51,
     "metadata": {},
     "output_type": "execute_result"
    }
   ],
   "source": [
    "# Repare o padrão\n",
    "\n",
    "df_train[['Ticket' , 'Ticket2']].head()"
   ]
  },
  {
   "cell_type": "code",
   "execution_count": 52,
   "id": "ced8c74d",
   "metadata": {},
   "outputs": [
    {
     "data": {
      "text/plain": [
       "Num           665\n",
       "PC             60\n",
       "C.A.           27\n",
       "STON/O         12\n",
       "A/5            10\n",
       "W./C.           9\n",
       "CA.             8\n",
       "SOTON/O.Q.      8\n",
       "SOTON/OQ        7\n",
       "A/5.            7\n",
       "CA              6\n",
       "STON/O2.        6\n",
       "C               5\n",
       "F.C.C.          5\n",
       "S.O.C.          5\n",
       "SC/PARIS        5\n",
       "SC/Paris        4\n",
       "S.O./P.P.       3\n",
       "PP              3\n",
       "A/4.            3\n",
       "A/4             3\n",
       "SC/AH           3\n",
       "A./5.           2\n",
       "SOTON/O2        2\n",
       "A.5.            2\n",
       "WE/P            2\n",
       "S.C./PARIS      2\n",
       "P/PP            2\n",
       "F.C.            1\n",
       "SC              1\n",
       "S.W./PP         1\n",
       "A/S             1\n",
       "Fa              1\n",
       "SCO/W           1\n",
       "SW/PP           1\n",
       "W/C             1\n",
       "S.C./A.4.       1\n",
       "S.O.P.          1\n",
       "A4.             1\n",
       "W.E.P.          1\n",
       "SO/C            1\n",
       "S.P.            1\n",
       "C.A./SOTON      1\n",
       "Name: Ticket2, dtype: int64"
      ]
     },
     "execution_count": 52,
     "metadata": {},
     "output_type": "execute_result"
    }
   ],
   "source": [
    "# Vamos olhar novamente a quantidade de valores únicos\n",
    "df_train['Ticket2'].value_counts()"
   ]
  },
  {
   "cell_type": "markdown",
   "id": "b0d9b54f",
   "metadata": {},
   "source": [
    "<p style='text-align: justify;'>Repare que algumas classes parecem se referir a mesma coisa . Por exemplo \"STON/O\" , \"SOTON/O.Q.\" , \"SOTON/OQ\" , \"STON/O2.\" , \"SOTON/O2\" e \"C.A./SOTON\" parecem seguir um padrão e talvez tenham uma relação . Os valores que mais aparecem são Num, C.A. e seus semelhantes, STON/O e seus semelhantes, A/5 e seus semelhantes e SC/PARIS e seus semelhantes. Vamos criar variáveis que indicam a presença de cada uma dessas respectivas classes :</p> "
   ]
  },
  {
   "cell_type": "code",
   "execution_count": 53,
   "id": "2cad7771",
   "metadata": {},
   "outputs": [],
   "source": [
    "lista = []\n",
    "for x in df_train['Ticket2'] :\n",
    "    if x in ['Num'] :\n",
    "        lista.append('Num')\n",
    "    elif x in ['C.A.' , 'CA.' , 'CA' , 'C.A./SOTON'] :\n",
    "        lista.append('C.A.')\n",
    "    elif x in ['STON/O' , 'SOTON/O.Q.' , 'SOTON/OQ' , 'STON/O2.' , 'SOTON/O2'] :\n",
    "        lista.append('STON/O')\n",
    "    elif x in ['PC'] :\n",
    "        lista.append('PC')\n",
    "    elif x in ['A/5' , 'A/5.' , 'A./5.' , 'A.5.'] :\n",
    "        lista.append('A/5')\n",
    "    elif x in ['SC/PARIS' , 'SC/Paris' , 'S.C./PARIS' ] :\n",
    "        lista.append('PARIS')\n",
    "    else :\n",
    "        lista.append('Outro Ticket')"
   ]
  },
  {
   "cell_type": "code",
   "execution_count": 54,
   "id": "299b3710",
   "metadata": {},
   "outputs": [],
   "source": [
    "df_train['Ticket2_modificado'] = lista"
   ]
  },
  {
   "cell_type": "code",
   "execution_count": 55,
   "id": "e2456629",
   "metadata": {},
   "outputs": [
    {
     "data": {
      "text/html": [
       "<div>\n",
       "<style scoped>\n",
       "    .dataframe tbody tr th:only-of-type {\n",
       "        vertical-align: middle;\n",
       "    }\n",
       "\n",
       "    .dataframe tbody tr th {\n",
       "        vertical-align: top;\n",
       "    }\n",
       "\n",
       "    .dataframe thead th {\n",
       "        text-align: right;\n",
       "    }\n",
       "</style>\n",
       "<table border=\"1\" class=\"dataframe\">\n",
       "  <thead>\n",
       "    <tr style=\"text-align: right;\">\n",
       "      <th></th>\n",
       "      <th>Ticket2</th>\n",
       "      <th>Ticket2_modificado</th>\n",
       "    </tr>\n",
       "  </thead>\n",
       "  <tbody>\n",
       "    <tr>\n",
       "      <th>0</th>\n",
       "      <td>A/5</td>\n",
       "      <td>A/5</td>\n",
       "    </tr>\n",
       "    <tr>\n",
       "      <th>1</th>\n",
       "      <td>PC</td>\n",
       "      <td>PC</td>\n",
       "    </tr>\n",
       "    <tr>\n",
       "      <th>2</th>\n",
       "      <td>STON/O2.</td>\n",
       "      <td>STON/O</td>\n",
       "    </tr>\n",
       "    <tr>\n",
       "      <th>3</th>\n",
       "      <td>Num</td>\n",
       "      <td>Num</td>\n",
       "    </tr>\n",
       "    <tr>\n",
       "      <th>4</th>\n",
       "      <td>Num</td>\n",
       "      <td>Num</td>\n",
       "    </tr>\n",
       "    <tr>\n",
       "      <th>...</th>\n",
       "      <td>...</td>\n",
       "      <td>...</td>\n",
       "    </tr>\n",
       "    <tr>\n",
       "      <th>886</th>\n",
       "      <td>Num</td>\n",
       "      <td>Num</td>\n",
       "    </tr>\n",
       "    <tr>\n",
       "      <th>887</th>\n",
       "      <td>Num</td>\n",
       "      <td>Num</td>\n",
       "    </tr>\n",
       "    <tr>\n",
       "      <th>888</th>\n",
       "      <td>W./C.</td>\n",
       "      <td>Outro Ticket</td>\n",
       "    </tr>\n",
       "    <tr>\n",
       "      <th>889</th>\n",
       "      <td>Num</td>\n",
       "      <td>Num</td>\n",
       "    </tr>\n",
       "    <tr>\n",
       "      <th>890</th>\n",
       "      <td>Num</td>\n",
       "      <td>Num</td>\n",
       "    </tr>\n",
       "  </tbody>\n",
       "</table>\n",
       "<p>891 rows × 2 columns</p>\n",
       "</div>"
      ],
      "text/plain": [
       "      Ticket2 Ticket2_modificado\n",
       "0         A/5                A/5\n",
       "1          PC                 PC\n",
       "2    STON/O2.             STON/O\n",
       "3         Num                Num\n",
       "4         Num                Num\n",
       "..        ...                ...\n",
       "886       Num                Num\n",
       "887       Num                Num\n",
       "888     W./C.       Outro Ticket\n",
       "889       Num                Num\n",
       "890       Num                Num\n",
       "\n",
       "[891 rows x 2 columns]"
      ]
     },
     "execution_count": 55,
     "metadata": {},
     "output_type": "execute_result"
    }
   ],
   "source": [
    "df_train[['Ticket2' , 'Ticket2_modificado']]"
   ]
  },
  {
   "cell_type": "code",
   "execution_count": 56,
   "id": "9a63bf93",
   "metadata": {},
   "outputs": [],
   "source": [
    "df_train = pd.concat([df_train , pd.get_dummies(df_train['Ticket2_modificado'])] , axis = 1)"
   ]
  },
  {
   "cell_type": "code",
   "execution_count": 57,
   "id": "4769370d",
   "metadata": {},
   "outputs": [
    {
     "data": {
      "text/plain": [
       "Index(['PassengerId', 'Survived', 'Pclass', 'Name', 'Sex', 'Age', 'SibSp',\n",
       "       'Parch', 'Ticket', 'Fare', 'Cabin', 'Embarked', 'Age_SS', 'Fare_SS',\n",
       "       'Sex_encoding', 'C', 'Q', 'S', 'SibSp+Parch', 'Pronome', 'Master.',\n",
       "       'Miss.', 'Mr.', 'Mrs.', 'Outro', 'Cabin_Bool', 'Ticket2',\n",
       "       'Ticket2_modificado', 'A/5', 'C.A.', 'Num', 'Outro Ticket', 'PARIS',\n",
       "       'PC', 'STON/O'],\n",
       "      dtype='object')"
      ]
     },
     "execution_count": 57,
     "metadata": {},
     "output_type": "execute_result"
    }
   ],
   "source": [
    "df_train.columns"
   ]
  },
  {
   "cell_type": "code",
   "execution_count": 59,
   "id": "40f2d037",
   "metadata": {},
   "outputs": [
    {
     "data": {
      "text/html": [
       "<div>\n",
       "<style scoped>\n",
       "    .dataframe tbody tr th:only-of-type {\n",
       "        vertical-align: middle;\n",
       "    }\n",
       "\n",
       "    .dataframe tbody tr th {\n",
       "        vertical-align: top;\n",
       "    }\n",
       "\n",
       "    .dataframe thead th {\n",
       "        text-align: right;\n",
       "    }\n",
       "</style>\n",
       "<table border=\"1\" class=\"dataframe\">\n",
       "  <thead>\n",
       "    <tr style=\"text-align: right;\">\n",
       "      <th></th>\n",
       "      <th>Ticket</th>\n",
       "      <th>A/5</th>\n",
       "      <th>PC</th>\n",
       "      <th>STON/O</th>\n",
       "      <th>C.A.</th>\n",
       "      <th>Num</th>\n",
       "      <th>PARIS</th>\n",
       "      <th>Outro Ticket</th>\n",
       "    </tr>\n",
       "  </thead>\n",
       "  <tbody>\n",
       "    <tr>\n",
       "      <th>0</th>\n",
       "      <td>A/5 21171</td>\n",
       "      <td>1</td>\n",
       "      <td>0</td>\n",
       "      <td>0</td>\n",
       "      <td>0</td>\n",
       "      <td>0</td>\n",
       "      <td>0</td>\n",
       "      <td>0</td>\n",
       "    </tr>\n",
       "    <tr>\n",
       "      <th>1</th>\n",
       "      <td>PC 17599</td>\n",
       "      <td>0</td>\n",
       "      <td>1</td>\n",
       "      <td>0</td>\n",
       "      <td>0</td>\n",
       "      <td>0</td>\n",
       "      <td>0</td>\n",
       "      <td>0</td>\n",
       "    </tr>\n",
       "    <tr>\n",
       "      <th>2</th>\n",
       "      <td>STON/O2. 3101282</td>\n",
       "      <td>0</td>\n",
       "      <td>0</td>\n",
       "      <td>1</td>\n",
       "      <td>0</td>\n",
       "      <td>0</td>\n",
       "      <td>0</td>\n",
       "      <td>0</td>\n",
       "    </tr>\n",
       "    <tr>\n",
       "      <th>3</th>\n",
       "      <td>113803</td>\n",
       "      <td>0</td>\n",
       "      <td>0</td>\n",
       "      <td>0</td>\n",
       "      <td>0</td>\n",
       "      <td>1</td>\n",
       "      <td>0</td>\n",
       "      <td>0</td>\n",
       "    </tr>\n",
       "    <tr>\n",
       "      <th>4</th>\n",
       "      <td>373450</td>\n",
       "      <td>0</td>\n",
       "      <td>0</td>\n",
       "      <td>0</td>\n",
       "      <td>0</td>\n",
       "      <td>1</td>\n",
       "      <td>0</td>\n",
       "      <td>0</td>\n",
       "    </tr>\n",
       "    <tr>\n",
       "      <th>...</th>\n",
       "      <td>...</td>\n",
       "      <td>...</td>\n",
       "      <td>...</td>\n",
       "      <td>...</td>\n",
       "      <td>...</td>\n",
       "      <td>...</td>\n",
       "      <td>...</td>\n",
       "      <td>...</td>\n",
       "    </tr>\n",
       "    <tr>\n",
       "      <th>886</th>\n",
       "      <td>211536</td>\n",
       "      <td>0</td>\n",
       "      <td>0</td>\n",
       "      <td>0</td>\n",
       "      <td>0</td>\n",
       "      <td>1</td>\n",
       "      <td>0</td>\n",
       "      <td>0</td>\n",
       "    </tr>\n",
       "    <tr>\n",
       "      <th>887</th>\n",
       "      <td>112053</td>\n",
       "      <td>0</td>\n",
       "      <td>0</td>\n",
       "      <td>0</td>\n",
       "      <td>0</td>\n",
       "      <td>1</td>\n",
       "      <td>0</td>\n",
       "      <td>0</td>\n",
       "    </tr>\n",
       "    <tr>\n",
       "      <th>888</th>\n",
       "      <td>W./C. 6607</td>\n",
       "      <td>0</td>\n",
       "      <td>0</td>\n",
       "      <td>0</td>\n",
       "      <td>0</td>\n",
       "      <td>0</td>\n",
       "      <td>0</td>\n",
       "      <td>1</td>\n",
       "    </tr>\n",
       "    <tr>\n",
       "      <th>889</th>\n",
       "      <td>111369</td>\n",
       "      <td>0</td>\n",
       "      <td>0</td>\n",
       "      <td>0</td>\n",
       "      <td>0</td>\n",
       "      <td>1</td>\n",
       "      <td>0</td>\n",
       "      <td>0</td>\n",
       "    </tr>\n",
       "    <tr>\n",
       "      <th>890</th>\n",
       "      <td>370376</td>\n",
       "      <td>0</td>\n",
       "      <td>0</td>\n",
       "      <td>0</td>\n",
       "      <td>0</td>\n",
       "      <td>1</td>\n",
       "      <td>0</td>\n",
       "      <td>0</td>\n",
       "    </tr>\n",
       "  </tbody>\n",
       "</table>\n",
       "<p>891 rows × 8 columns</p>\n",
       "</div>"
      ],
      "text/plain": [
       "               Ticket  A/5  PC  STON/O  C.A.  Num  PARIS  Outro Ticket\n",
       "0           A/5 21171    1   0       0     0    0      0             0\n",
       "1            PC 17599    0   1       0     0    0      0             0\n",
       "2    STON/O2. 3101282    0   0       1     0    0      0             0\n",
       "3              113803    0   0       0     0    1      0             0\n",
       "4              373450    0   0       0     0    1      0             0\n",
       "..                ...  ...  ..     ...   ...  ...    ...           ...\n",
       "886            211536    0   0       0     0    1      0             0\n",
       "887            112053    0   0       0     0    1      0             0\n",
       "888        W./C. 6607    0   0       0     0    0      0             1\n",
       "889            111369    0   0       0     0    1      0             0\n",
       "890            370376    0   0       0     0    1      0             0\n",
       "\n",
       "[891 rows x 8 columns]"
      ]
     },
     "execution_count": 59,
     "metadata": {},
     "output_type": "execute_result"
    }
   ],
   "source": [
    "# Observe como ficou nosso df_train\n",
    "\n",
    "df_train[['Ticket' , 'A/5', 'PC' ,'STON/O' , 'C.A.' , 'Num' , 'PARIS' , 'Outro Ticket']]"
   ]
  },
  {
   "cell_type": "markdown",
   "id": "6bc999ef",
   "metadata": {},
   "source": [
    "Vamos agora repetir o mesmo processo para o conjunto de dados de teste, ou seja, para df_test :"
   ]
  },
  {
   "cell_type": "code",
   "execution_count": 60,
   "id": "94000990",
   "metadata": {},
   "outputs": [],
   "source": [
    "tickets = []\n",
    "for i in df_test['Ticket'].str.split() :\n",
    "    if len(i) == 1 :\n",
    "        tickets.append('Num')\n",
    "    else :\n",
    "        tickets.append(i[0])\n",
    "df_test['Ticket2'] = tickets\n",
    "lista = []\n",
    "for x in df_test['Ticket2'] :\n",
    "    if x in ['Num'] :\n",
    "        lista.append('Num')\n",
    "    elif x in ['C.A.' , 'CA.' , 'CA' , 'C.A./SOTON'] :\n",
    "        lista.append('C.A.')\n",
    "    elif x in ['STON/O' , 'SOTON/O.Q.' , 'SOTON/OQ' , 'STON/O2.' , 'SOTON/O2'] :\n",
    "        lista.append('STON/O')\n",
    "    elif x in ['PC'] :\n",
    "        lista.append('PC')\n",
    "    elif x in ['A/5' , 'A/5.' , 'A./5.' , 'A.5.'] :\n",
    "        lista.append('A/5')\n",
    "    elif x in ['SC/PARIS' , 'SC/Paris' , 'S.C./PARIS' ] :\n",
    "        lista.append('PARIS')\n",
    "    else :\n",
    "        lista.append('Outro Ticket')\n",
    "df_test['Ticket2_modificado'] = lista\n",
    "df_test = pd.concat([df_test , pd.get_dummies(df_test['Ticket2_modificado'])] , axis = 1)"
   ]
  },
  {
   "cell_type": "code",
   "execution_count": 61,
   "id": "86d12454",
   "metadata": {},
   "outputs": [
    {
     "data": {
      "text/html": [
       "<div>\n",
       "<style scoped>\n",
       "    .dataframe tbody tr th:only-of-type {\n",
       "        vertical-align: middle;\n",
       "    }\n",
       "\n",
       "    .dataframe tbody tr th {\n",
       "        vertical-align: top;\n",
       "    }\n",
       "\n",
       "    .dataframe thead th {\n",
       "        text-align: right;\n",
       "    }\n",
       "</style>\n",
       "<table border=\"1\" class=\"dataframe\">\n",
       "  <thead>\n",
       "    <tr style=\"text-align: right;\">\n",
       "      <th></th>\n",
       "      <th>Ticket</th>\n",
       "      <th>A/5</th>\n",
       "      <th>PC</th>\n",
       "      <th>STON/O</th>\n",
       "      <th>C.A.</th>\n",
       "      <th>Num</th>\n",
       "      <th>PARIS</th>\n",
       "      <th>Outro Ticket</th>\n",
       "    </tr>\n",
       "  </thead>\n",
       "  <tbody>\n",
       "    <tr>\n",
       "      <th>0</th>\n",
       "      <td>330911</td>\n",
       "      <td>0</td>\n",
       "      <td>0</td>\n",
       "      <td>0</td>\n",
       "      <td>0</td>\n",
       "      <td>1</td>\n",
       "      <td>0</td>\n",
       "      <td>0</td>\n",
       "    </tr>\n",
       "    <tr>\n",
       "      <th>1</th>\n",
       "      <td>363272</td>\n",
       "      <td>0</td>\n",
       "      <td>0</td>\n",
       "      <td>0</td>\n",
       "      <td>0</td>\n",
       "      <td>1</td>\n",
       "      <td>0</td>\n",
       "      <td>0</td>\n",
       "    </tr>\n",
       "    <tr>\n",
       "      <th>2</th>\n",
       "      <td>240276</td>\n",
       "      <td>0</td>\n",
       "      <td>0</td>\n",
       "      <td>0</td>\n",
       "      <td>0</td>\n",
       "      <td>1</td>\n",
       "      <td>0</td>\n",
       "      <td>0</td>\n",
       "    </tr>\n",
       "    <tr>\n",
       "      <th>3</th>\n",
       "      <td>315154</td>\n",
       "      <td>0</td>\n",
       "      <td>0</td>\n",
       "      <td>0</td>\n",
       "      <td>0</td>\n",
       "      <td>1</td>\n",
       "      <td>0</td>\n",
       "      <td>0</td>\n",
       "    </tr>\n",
       "    <tr>\n",
       "      <th>4</th>\n",
       "      <td>3101298</td>\n",
       "      <td>0</td>\n",
       "      <td>0</td>\n",
       "      <td>0</td>\n",
       "      <td>0</td>\n",
       "      <td>1</td>\n",
       "      <td>0</td>\n",
       "      <td>0</td>\n",
       "    </tr>\n",
       "    <tr>\n",
       "      <th>...</th>\n",
       "      <td>...</td>\n",
       "      <td>...</td>\n",
       "      <td>...</td>\n",
       "      <td>...</td>\n",
       "      <td>...</td>\n",
       "      <td>...</td>\n",
       "      <td>...</td>\n",
       "      <td>...</td>\n",
       "    </tr>\n",
       "    <tr>\n",
       "      <th>413</th>\n",
       "      <td>A.5. 3236</td>\n",
       "      <td>1</td>\n",
       "      <td>0</td>\n",
       "      <td>0</td>\n",
       "      <td>0</td>\n",
       "      <td>0</td>\n",
       "      <td>0</td>\n",
       "      <td>0</td>\n",
       "    </tr>\n",
       "    <tr>\n",
       "      <th>414</th>\n",
       "      <td>PC 17758</td>\n",
       "      <td>0</td>\n",
       "      <td>1</td>\n",
       "      <td>0</td>\n",
       "      <td>0</td>\n",
       "      <td>0</td>\n",
       "      <td>0</td>\n",
       "      <td>0</td>\n",
       "    </tr>\n",
       "    <tr>\n",
       "      <th>415</th>\n",
       "      <td>SOTON/O.Q. 3101262</td>\n",
       "      <td>0</td>\n",
       "      <td>0</td>\n",
       "      <td>1</td>\n",
       "      <td>0</td>\n",
       "      <td>0</td>\n",
       "      <td>0</td>\n",
       "      <td>0</td>\n",
       "    </tr>\n",
       "    <tr>\n",
       "      <th>416</th>\n",
       "      <td>359309</td>\n",
       "      <td>0</td>\n",
       "      <td>0</td>\n",
       "      <td>0</td>\n",
       "      <td>0</td>\n",
       "      <td>1</td>\n",
       "      <td>0</td>\n",
       "      <td>0</td>\n",
       "    </tr>\n",
       "    <tr>\n",
       "      <th>417</th>\n",
       "      <td>2668</td>\n",
       "      <td>0</td>\n",
       "      <td>0</td>\n",
       "      <td>0</td>\n",
       "      <td>0</td>\n",
       "      <td>1</td>\n",
       "      <td>0</td>\n",
       "      <td>0</td>\n",
       "    </tr>\n",
       "  </tbody>\n",
       "</table>\n",
       "<p>418 rows × 8 columns</p>\n",
       "</div>"
      ],
      "text/plain": [
       "                 Ticket  A/5  PC  STON/O  C.A.  Num  PARIS  Outro Ticket\n",
       "0                330911    0   0       0     0    1      0             0\n",
       "1                363272    0   0       0     0    1      0             0\n",
       "2                240276    0   0       0     0    1      0             0\n",
       "3                315154    0   0       0     0    1      0             0\n",
       "4               3101298    0   0       0     0    1      0             0\n",
       "..                  ...  ...  ..     ...   ...  ...    ...           ...\n",
       "413           A.5. 3236    1   0       0     0    0      0             0\n",
       "414            PC 17758    0   1       0     0    0      0             0\n",
       "415  SOTON/O.Q. 3101262    0   0       1     0    0      0             0\n",
       "416              359309    0   0       0     0    1      0             0\n",
       "417                2668    0   0       0     0    1      0             0\n",
       "\n",
       "[418 rows x 8 columns]"
      ]
     },
     "execution_count": 61,
     "metadata": {},
     "output_type": "execute_result"
    }
   ],
   "source": [
    "# Observando como ficou nosso df  df_test\n",
    "\n",
    "df_test[['Ticket' , 'A/5', 'PC' ,'STON/O' , 'C.A.' , 'Num' , 'PARIS' , 'Outro Ticket']]"
   ]
  },
  {
   "cell_type": "markdown",
   "id": "1b21976d",
   "metadata": {},
   "source": [
    "## <center>4. Modelagem<center>"
   ]
  },
  {
   "cell_type": "markdown",
   "id": "19436dc2",
   "metadata": {},
   "source": [
    "### 4.1 Acurácia no Conjunto de Treino"
   ]
  },
  {
   "cell_type": "markdown",
   "id": "fa40018c",
   "metadata": {},
   "source": [
    "<p style='text-align: justify;'>Inicialmente vamos treinar alguns modelos (sem otimização de hiperparâmetros por enquanto) no conjunto de treino e analisar a acurácia desses modelos no próprio conjunto de treino. Lembrando que acurácia de um modelo corresponde a divisão entre o número de previsões corretas desse modelo e o número total de previsões."
   ]
  },
  {
   "cell_type": "code",
   "execution_count": 62,
   "id": "19e79d85",
   "metadata": {},
   "outputs": [],
   "source": [
    "# Selecionando as Features que vamos usar para o treinamento do nosso modelo\n",
    "\n",
    "features = ['Pclass' , 'SibSp' , 'Parch' , 'Age_SS' , 'Fare_SS' , 'SibSp+Parch' , 'Sex_encoding' , 'Q' , 'S' , 'C' , 'Mr.' ,\n",
    "            'Master.','Mrs.' , 'Miss.' , 'C.A.' , 'STON/O' , 'PARIS', 'A/5' ]"
   ]
  },
  {
   "cell_type": "code",
   "execution_count": 63,
   "id": "0d06f963",
   "metadata": {},
   "outputs": [],
   "source": [
    "# Criando os arrays onde vamos treinar nossos modelos \n",
    "\n",
    "X_train = df_train[features]\n",
    "\n",
    "y_train = df_train['Survived']"
   ]
  },
  {
   "cell_type": "code",
   "execution_count": 64,
   "id": "75ddfb79",
   "metadata": {},
   "outputs": [],
   "source": [
    "# Modelos e seus respectivos nomes\n",
    "modelos = [LogisticRegression() , KNeighborsClassifier() , SVC() , DecisionTreeClassifier() , GaussianNB(),\n",
    "           RandomForestClassifier() , AdaBoostClassifier() , GradientBoostingClassifier(),\n",
    "            xgb.XGBClassifier(use_label_encoder = False , eval_metric = 'error')]\n",
    "nome_modelos = ['Logistic Regression' , 'K Nearest Neighbors' , 'Support Vector Classsifier', 'Decision Tree Classifier', \n",
    "                'Gaussian Naive Bayes' , 'Random Forest' , 'Ada Boost', 'Gradient Boosting' ,\n",
    "               'XGB Classifier']"
   ]
  },
  {
   "cell_type": "code",
   "execution_count": 65,
   "id": "4f4682ab",
   "metadata": {},
   "outputs": [],
   "source": [
    "# Calculando a Acurácia de cada modelo no conjunto de treino\n",
    "scores = []\n",
    "for modelo, nome_modelo in zip(modelos , nome_modelos) :\n",
    "    modelo.fit(X_train , y_train)\n",
    "    score = modelo.score(X_train , y_train)\n",
    "    scores.append(score)"
   ]
  },
  {
   "cell_type": "code",
   "execution_count": 66,
   "id": "d755cb8a",
   "metadata": {},
   "outputs": [
    {
     "data": {
      "text/html": [
       "<div>\n",
       "<style scoped>\n",
       "    .dataframe tbody tr th:only-of-type {\n",
       "        vertical-align: middle;\n",
       "    }\n",
       "\n",
       "    .dataframe tbody tr th {\n",
       "        vertical-align: top;\n",
       "    }\n",
       "\n",
       "    .dataframe thead th {\n",
       "        text-align: right;\n",
       "    }\n",
       "</style>\n",
       "<table border=\"1\" class=\"dataframe\">\n",
       "  <thead>\n",
       "    <tr style=\"text-align: right;\">\n",
       "      <th></th>\n",
       "      <th>Modelo</th>\n",
       "      <th>Acurácia</th>\n",
       "    </tr>\n",
       "  </thead>\n",
       "  <tbody>\n",
       "    <tr>\n",
       "      <th>0</th>\n",
       "      <td>Logistic Regression</td>\n",
       "      <td>0.830527</td>\n",
       "    </tr>\n",
       "    <tr>\n",
       "      <th>1</th>\n",
       "      <td>K Nearest Neighbors</td>\n",
       "      <td>0.865320</td>\n",
       "    </tr>\n",
       "    <tr>\n",
       "      <th>2</th>\n",
       "      <td>Support Vector Classsifier</td>\n",
       "      <td>0.833895</td>\n",
       "    </tr>\n",
       "    <tr>\n",
       "      <th>3</th>\n",
       "      <td>Decision Tree Classifier</td>\n",
       "      <td>0.987654</td>\n",
       "    </tr>\n",
       "    <tr>\n",
       "      <th>4</th>\n",
       "      <td>Gaussian Naive Bayes</td>\n",
       "      <td>0.813692</td>\n",
       "    </tr>\n",
       "    <tr>\n",
       "      <th>5</th>\n",
       "      <td>Random Forest</td>\n",
       "      <td>0.985410</td>\n",
       "    </tr>\n",
       "    <tr>\n",
       "      <th>6</th>\n",
       "      <td>Ada Boost</td>\n",
       "      <td>0.839506</td>\n",
       "    </tr>\n",
       "    <tr>\n",
       "      <th>7</th>\n",
       "      <td>Gradient Boosting</td>\n",
       "      <td>0.907969</td>\n",
       "    </tr>\n",
       "    <tr>\n",
       "      <th>8</th>\n",
       "      <td>XGB Classifier</td>\n",
       "      <td>0.968575</td>\n",
       "    </tr>\n",
       "  </tbody>\n",
       "</table>\n",
       "</div>"
      ],
      "text/plain": [
       "                       Modelo  Acurácia\n",
       "0         Logistic Regression  0.830527\n",
       "1         K Nearest Neighbors  0.865320\n",
       "2  Support Vector Classsifier  0.833895\n",
       "3    Decision Tree Classifier  0.987654\n",
       "4        Gaussian Naive Bayes  0.813692\n",
       "5               Random Forest  0.985410\n",
       "6                   Ada Boost  0.839506\n",
       "7           Gradient Boosting  0.907969\n",
       "8              XGB Classifier  0.968575"
      ]
     },
     "execution_count": 66,
     "metadata": {},
     "output_type": "execute_result"
    }
   ],
   "source": [
    "# Criando um DataFrame para melhor visualizar a acurácia de cada modelo\n",
    "dic = {'Modelo' : nome_modelos , 'Acurácia' : scores}\n",
    "df_acurácia = pd.DataFrame(dic)\n",
    "df_acurácia"
   ]
  },
  {
   "cell_type": "markdown",
   "id": "36d82459",
   "metadata": {},
   "source": [
    "<p style='text-align: justify;'>Interessante notarmos que todos os nossos modelos possuem índices de acerto superiores a 81% . Alguns modelos como por exemplo Árvore de decisão nos levam a uma acurácia altíssima de mais de 98% , porém precisamos lembrar que árvores de decisão são algoritmos que costumam sofrer de overfitting, isto é, possuem alto desempenho no conjunto de treino, mas não generalizam tão bem para dados não vistos . O modelo Extreme Gradient Boosting (XGB) é um modelo extremamente poderoso e como podemos ver consegue uma acurácia de quase 97% . Vamos ver agora como esses mesmos algoritmos desempenham em dados não vistos e para isso faremos uso de uma técnica chamada validação cruzada."
   ]
  },
  {
   "cell_type": "markdown",
   "id": "d201ed48",
   "metadata": {},
   "source": [
    "### 4.2 Acurácia em Dados não vistos - Validação Cruzada"
   ]
  },
  {
   "cell_type": "markdown",
   "id": "fbc039f7",
   "metadata": {},
   "source": [
    "<p style='text-align: justify;'>Conforme dito anteriormente precisamos medir a acurácia do nosso modelo em dados que não foram utilizados para treinamento do mesmo, pois assim conseguiremos ter uma noção do quão bem nosso modelo generaliza para dados novos. Para atingir esse objetivo utilizaremos uma técnica chamada validação cruzada que consiste em dividir nosso conjunto de treino em K partes, treinar o modelo em K - 1 partes e fazer predições na parte que não foi usada para treinamento. Sendo assim serão K previsões diferentes e, portanto, K acurácias distintas. A média dessas acurácias é uma boa métrica para avaliarmos o desempenho dos nossos modelos. Como no dataset do titanic o número de exemplos no conjunto de treino é aproximadamente o dobro do número de exemplos no conjuto de testes vamos utilizar K = 3 . "
   ]
  },
  {
   "cell_type": "code",
   "execution_count": 69,
   "id": "2b92645e",
   "metadata": {},
   "outputs": [],
   "source": [
    "# Calculando o score de validação cruzada para cada modelo\n",
    "scores_validação = []\n",
    "for modelo in modelos :\n",
    "    score = np.mean(cross_val_score(modelo , X_train, y_train , cv = 3))\n",
    "    scores_validação.append(score)"
   ]
  },
  {
   "cell_type": "code",
   "execution_count": 70,
   "id": "3a41e7d3",
   "metadata": {},
   "outputs": [
    {
     "data": {
      "text/html": [
       "<div>\n",
       "<style scoped>\n",
       "    .dataframe tbody tr th:only-of-type {\n",
       "        vertical-align: middle;\n",
       "    }\n",
       "\n",
       "    .dataframe tbody tr th {\n",
       "        vertical-align: top;\n",
       "    }\n",
       "\n",
       "    .dataframe thead th {\n",
       "        text-align: right;\n",
       "    }\n",
       "</style>\n",
       "<table border=\"1\" class=\"dataframe\">\n",
       "  <thead>\n",
       "    <tr style=\"text-align: right;\">\n",
       "      <th></th>\n",
       "      <th>Modelo</th>\n",
       "      <th>Acurácia média obtida na Validação Cruzada</th>\n",
       "    </tr>\n",
       "  </thead>\n",
       "  <tbody>\n",
       "    <tr>\n",
       "      <th>0</th>\n",
       "      <td>Logistic Regression</td>\n",
       "      <td>0.821549</td>\n",
       "    </tr>\n",
       "    <tr>\n",
       "      <th>1</th>\n",
       "      <td>K Nearest Neighbors</td>\n",
       "      <td>0.800224</td>\n",
       "    </tr>\n",
       "    <tr>\n",
       "      <th>2</th>\n",
       "      <td>Support Vector Classsifier</td>\n",
       "      <td>0.833895</td>\n",
       "    </tr>\n",
       "    <tr>\n",
       "      <th>3</th>\n",
       "      <td>Decision Tree Classifier</td>\n",
       "      <td>0.771044</td>\n",
       "    </tr>\n",
       "    <tr>\n",
       "      <th>4</th>\n",
       "      <td>Gaussian Naive Bayes</td>\n",
       "      <td>0.713805</td>\n",
       "    </tr>\n",
       "    <tr>\n",
       "      <th>5</th>\n",
       "      <td>Random Forest</td>\n",
       "      <td>0.802469</td>\n",
       "    </tr>\n",
       "    <tr>\n",
       "      <th>6</th>\n",
       "      <td>Ada Boost</td>\n",
       "      <td>0.803591</td>\n",
       "    </tr>\n",
       "    <tr>\n",
       "      <th>7</th>\n",
       "      <td>Gradient Boosting</td>\n",
       "      <td>0.832772</td>\n",
       "    </tr>\n",
       "    <tr>\n",
       "      <th>8</th>\n",
       "      <td>XGB Classifier</td>\n",
       "      <td>0.812570</td>\n",
       "    </tr>\n",
       "  </tbody>\n",
       "</table>\n",
       "</div>"
      ],
      "text/plain": [
       "                       Modelo  Acurácia média obtida na Validação Cruzada\n",
       "0         Logistic Regression                                    0.821549\n",
       "1         K Nearest Neighbors                                    0.800224\n",
       "2  Support Vector Classsifier                                    0.833895\n",
       "3    Decision Tree Classifier                                    0.771044\n",
       "4        Gaussian Naive Bayes                                    0.713805\n",
       "5               Random Forest                                    0.802469\n",
       "6                   Ada Boost                                    0.803591\n",
       "7           Gradient Boosting                                    0.832772\n",
       "8              XGB Classifier                                    0.812570"
      ]
     },
     "execution_count": 70,
     "metadata": {},
     "output_type": "execute_result"
    }
   ],
   "source": [
    "# Criando um DataFrame para melhor visualizar o score de validação cruzada de cada modelo\n",
    "dic = {'Modelo' : nome_modelos , 'Acurácia média obtida na Validação Cruzada' : scores_validação}\n",
    "df_validação = pd.DataFrame(dic)\n",
    "df_validação"
   ]
  },
  {
   "cell_type": "markdown",
   "id": "fc500153",
   "metadata": {},
   "source": [
    "Repare que as acurácias em dados não vistos são bem distintas das acurácias obtidas no conjunto de treino. A árvore de decisão que obteve acurácia de ~98,76% no conjunto de treino agora obteve acurácia de ~77,10% representando uma queda enorme de mais de 21% . Isso é normal, pois conforme dito árvores de decisão costumam sofrer de Overfitting. Dos nossos 9 modelos temos que 7 tiveram acurácia média superior a 80% o que é bem positivo . O modelo que obteve melhor acurácia média foi o SVC com ~83,39% ."
   ]
  },
  {
   "cell_type": "markdown",
   "id": "fda5524e",
   "metadata": {},
   "source": [
    "### 4.3 Otimização de Hiperparâmetros através de Pesquisa em Grade"
   ]
  },
  {
   "cell_type": "markdown",
   "id": "4d8e38df",
   "metadata": {},
   "source": [
    "Vamos agora tentar otimizar os hiperparâmetros do modelo que melhor desempenhou na validação cruzada : SVC"
   ]
  },
  {
   "cell_type": "code",
   "execution_count": 71,
   "id": "2e18ac0c",
   "metadata": {},
   "outputs": [],
   "source": [
    "# Criando a Grade de Pesquisa\n",
    "\n",
    "param_grid = {'C': [0.1,1, 10, 100], 'gamma': [1,0.1,0.01,0.001],'kernel': ['rbf', 'sigmoid']}"
   ]
  },
  {
   "cell_type": "code",
   "execution_count": 72,
   "id": "7fb444c9",
   "metadata": {},
   "outputs": [],
   "source": [
    "gsCV = GridSearchCV(SVC(), param_grid, cv = 3)"
   ]
  },
  {
   "cell_type": "code",
   "execution_count": 73,
   "id": "75471f7d",
   "metadata": {},
   "outputs": [
    {
     "data": {
      "text/plain": [
       "GridSearchCV(cv=3, estimator=SVC(),\n",
       "             param_grid={'C': [0.1, 1, 10, 100], 'gamma': [1, 0.1, 0.01, 0.001],\n",
       "                         'kernel': ['rbf', 'sigmoid']})"
      ]
     },
     "execution_count": 73,
     "metadata": {},
     "output_type": "execute_result"
    }
   ],
   "source": [
    "gsCV.fit(X_train, y_train)"
   ]
  },
  {
   "cell_type": "code",
   "execution_count": 74,
   "id": "d5eb0e60",
   "metadata": {},
   "outputs": [
    {
     "data": {
      "text/plain": [
       "0.8338945005611672"
      ]
     },
     "execution_count": 74,
     "metadata": {},
     "output_type": "execute_result"
    }
   ],
   "source": [
    "# Melhor score da pesquisa em grade\n",
    "gsCV.best_score_"
   ]
  },
  {
   "cell_type": "code",
   "execution_count": 75,
   "id": "4c847069",
   "metadata": {},
   "outputs": [
    {
     "data": {
      "text/plain": [
       "{'C': 1, 'gamma': 0.1, 'kernel': 'rbf'}"
      ]
     },
     "execution_count": 75,
     "metadata": {},
     "output_type": "execute_result"
    }
   ],
   "source": [
    "# Parâmetros do SVC que atinge o melhor score\n",
    "gsCV.best_params_"
   ]
  },
  {
   "cell_type": "markdown",
   "id": "bfd13ed9",
   "metadata": {},
   "source": [
    "<p style='text-align: justify;'>Fazendo outras pesquisas em grade para valores de parâmetros próximos aos de cima e fazendo algumas submissões ao Kaggle obtive que um SVC com parâmetros C= 50 , gamma = 0.02 e kernel = rbf fornece em nossa validação cruzada um score médio de 0,8317 e no kaggle um score de 0,78708 . Um modelo individual obtendo um score de 0,78708 no Kaggle é um bom resultado e já nos coloca no top 8% do Kaggle . Um outro bom modelo SVC encontrado é um de parâmetros C = 25 , gamma = 0,04 e kernel = rbf que obtém uma pontuação de 0,78229 no kaggle."
   ]
  },
  {
   "cell_type": "markdown",
   "id": "c006d7d0",
   "metadata": {},
   "source": [
    "### 4.4 Stacking"
   ]
  },
  {
   "cell_type": "markdown",
   "id": "66fe2dd1",
   "metadata": {},
   "source": [
    "<p style='text-align: justify;'>Stacking corresponde a um modelo de aprendizagem conjunta que consiste em treinarmos modelos (estimadores) e usarmos essas previsões como features para que um meta modelo (estimador final) seja treinado sobre essas features e possamos pegar como previsão final a previsão desse meta modelo treinado nessas features. Essa técnica costuma retornar no mínimo o mesmo desempenho do estimador mais forte e muitas vezes acaba retornando um desempenho um pouco melhor. Vamos utilizar essa técnica abaixo usando como estimadores nossos dois melhores SVCs e como estimador final uma Regressão Logística com a configuração padrão do Scikit-Learn."
   ]
  },
  {
   "cell_type": "code",
   "execution_count": 76,
   "id": "164de848",
   "metadata": {},
   "outputs": [],
   "source": [
    "# Criando nossos estimadores\n",
    "\n",
    "estimators = [('svc1' , SVC(C = 50 , gamma = 0.02 , kernel = 'rbf')) , ('svc2' , SVC(C = 25 , gamma = 0.04 , kernel = 'rbf'))]"
   ]
  },
  {
   "cell_type": "code",
   "execution_count": 77,
   "id": "ab1f0b01",
   "metadata": {},
   "outputs": [],
   "source": [
    "# Criando nosso esimador final ou meta-modelo\n",
    "\n",
    "final_estimator=LogisticRegression()"
   ]
  },
  {
   "cell_type": "code",
   "execution_count": 78,
   "id": "106e39ec",
   "metadata": {},
   "outputs": [],
   "source": [
    "# Empilhando os modelos\n",
    "\n",
    "sc = StackingClassifier(estimators=estimators, final_estimator=final_estimator)"
   ]
  },
  {
   "cell_type": "code",
   "execution_count": 79,
   "id": "f7f4a668",
   "metadata": {},
   "outputs": [
    {
     "data": {
      "text/plain": [
       "0.8327721661054994"
      ]
     },
     "execution_count": 79,
     "metadata": {},
     "output_type": "execute_result"
    }
   ],
   "source": [
    "# Verificando o score de validação cruzada do Stacking Classifier\n",
    "\n",
    "np.mean(cross_val_score(sc , X_train, y_train, cv = 3))"
   ]
  },
  {
   "cell_type": "markdown",
   "id": "ebe3fc50",
   "metadata": {},
   "source": [
    "<p style='text-align: justify;'>Veja que a acurácia média da validação cruzada aumentou em relação a acurácia do modelo SVC individual . Isso é um bom indício de que nosso modelo está generalizando melhor ainda para dados não vistos. De fato quando usamos esse modelo para prever o conjunto de teste obtemos um score de 0.78947 no Kaggle que é superior ao que tinhamos antes."
   ]
  },
  {
   "cell_type": "markdown",
   "id": "9bce9972",
   "metadata": {},
   "source": [
    "### 4.5 Blending"
   ]
  },
  {
   "cell_type": "markdown",
   "id": "cfef0b38",
   "metadata": {},
   "source": [
    "<p style='text-align: justify;'>Misturar modelos é também uma técnica que costuma trazer bons resultados e melhorar um pouco o desempenho dos nossos modelos. O Scikit-Learn permite treinar um modelo e ao invés de prever a saída de um input X podemos prever as probabilidades desse input X gerar a classe 0 e as probabilidades de gerar a classe 1 através do método .predict_proba() . Misturaremos nossos dois SVCs de maneira a definirmos a probabilidade de prever a classe 0 como sendo a média geométrica das probabilidades de cada modelo prever a classe 0 ."
   ]
  },
  {
   "cell_type": "code",
   "execution_count": 80,
   "id": "6657356e",
   "metadata": {},
   "outputs": [],
   "source": [
    "# Criando nossos dois SVCs de melhor desempenho\n",
    "\n",
    "svc1 = SVC(C = 50 , gamma = 0.02 , kernel = 'rbf' , probability = True)\n",
    "svc2 = SVC(C = 25 , gamma = 0.04 , kernel = 'rbf' , probability = True)"
   ]
  },
  {
   "cell_type": "code",
   "execution_count": 81,
   "id": "b3b9fef9",
   "metadata": {},
   "outputs": [
    {
     "data": {
      "text/plain": [
       "SVC(C=25, gamma=0.04, probability=True)"
      ]
     },
     "execution_count": 81,
     "metadata": {},
     "output_type": "execute_result"
    }
   ],
   "source": [
    "# Treinando os dois SVCs\n",
    "\n",
    "svc1.fit(X_train , y_train)\n",
    "svc2.fit(X_train , y_train)"
   ]
  },
  {
   "cell_type": "markdown",
   "id": "8f766242",
   "metadata": {},
   "source": [
    "<p style='text-align: justify;'>Veja a matriz abaixo . Cada linha traz a probabilidade da previsão ser igual a 0 (elemento da esquerda) e a probabilidade da previsão ser igual a 1 (elemento da direita). Se a probabilidade de ser igual a 0 for maior que 0.5 o modelo svc1 prevê 0 , ou seja, não sobrevivência e se a probabilidade for menor que 0.5 o modelo svc1 prevê 1, isto é, sobrevivência ."
   ]
  },
  {
   "cell_type": "code",
   "execution_count": 82,
   "id": "8041ee43",
   "metadata": {},
   "outputs": [
    {
     "data": {
      "text/plain": [
       "array([[0.83682247, 0.16317753],\n",
       "       [0.38515341, 0.61484659],\n",
       "       [0.87281059, 0.12718941],\n",
       "       [0.83759555, 0.16240445],\n",
       "       [0.41173731, 0.58826269],\n",
       "       [0.83628333, 0.16371667],\n",
       "       [0.19117849, 0.80882151],\n",
       "       [0.86391414, 0.13608586],\n",
       "       [0.17054479, 0.82945521],\n",
       "       [0.9397516 , 0.0602484 ],\n",
       "       [0.83778994, 0.16221006],\n",
       "       [0.83681374, 0.16318626],\n",
       "       [0.13242411, 0.86757589],\n",
       "       [0.86987599, 0.13012401],\n",
       "       [0.10664527, 0.89335473],\n",
       "       [0.14759802, 0.85240198],\n",
       "       [0.87198913, 0.12801087],\n",
       "       [0.83600859, 0.16399141],\n",
       "       [0.47905488, 0.52094512],\n",
       "       [0.22012334, 0.77987666],\n",
       "       [0.76426164, 0.23573836],\n",
       "       [0.09229777, 0.90770223],\n",
       "       [0.11605671, 0.88394329],\n",
       "       [0.65460838, 0.34539162],\n",
       "       [0.11624751, 0.88375249],\n",
       "       [0.96273562, 0.03726438],\n",
       "       [0.02879322, 0.97120678],\n",
       "       [0.83656161, 0.16343839],\n",
       "       [0.8364716 , 0.1635284 ],\n",
       "       [0.83698986, 0.16301014],\n",
       "       [0.86755666, 0.13244334],\n",
       "       [0.85364562, 0.14635438],\n",
       "       [0.50798156, 0.49201844],\n",
       "       [0.62843555, 0.37156445],\n",
       "       [0.75118796, 0.24881204],\n",
       "       [0.83493949, 0.16506051],\n",
       "       [0.35847062, 0.64152938],\n",
       "       [0.33339896, 0.66660104],\n",
       "       [0.83738621, 0.16261379],\n",
       "       [0.82287809, 0.17712191],\n",
       "       [0.91433445, 0.08566555],\n",
       "       [0.83643886, 0.16356114],\n",
       "       [0.83656546, 0.16343454],\n",
       "       [0.14970687, 0.85029313],\n",
       "       [0.10648847, 0.89351153],\n",
       "       [0.83734007, 0.16265993],\n",
       "       [0.84040091, 0.15959909],\n",
       "       [0.83703013, 0.16296987],\n",
       "       [0.1239902 , 0.8760098 ],\n",
       "       [0.34172955, 0.65827045],\n",
       "       [0.83226023, 0.16773977],\n",
       "       [0.83733489, 0.16266511],\n",
       "       [0.19977468, 0.80022532],\n",
       "       [0.12996243, 0.87003757],\n",
       "       [0.8395258 , 0.1604742 ],\n",
       "       [0.82967843, 0.17032157],\n",
       "       [0.83777053, 0.16222947],\n",
       "       [0.83784907, 0.16215093],\n",
       "       [0.90263198, 0.09736802],\n",
       "       [0.10418964, 0.89581036],\n",
       "       [0.83710896, 0.16289104],\n",
       "       [0.83717478, 0.16282522],\n",
       "       [0.83729828, 0.16270172],\n",
       "       [0.17703995, 0.82296005],\n",
       "       [0.20375761, 0.79624239],\n",
       "       [0.14615894, 0.85384106],\n",
       "       [0.17024126, 0.82975874],\n",
       "       [0.83711174, 0.16288826],\n",
       "       [0.83744019, 0.16255981],\n",
       "       [0.27492252, 0.72507748],\n",
       "       [0.18045574, 0.81954426],\n",
       "       [0.8376124 , 0.1623876 ],\n",
       "       [0.35641268, 0.64358732],\n",
       "       [0.83681832, 0.16318168],\n",
       "       [0.09462692, 0.90537308],\n",
       "       [0.84176473, 0.15823527],\n",
       "       [0.83774438, 0.16225562],\n",
       "       [0.05875106, 0.94124894],\n",
       "       [0.83731422, 0.16268578],\n",
       "       [0.18045574, 0.81954426],\n",
       "       [0.0618691 , 0.9381309 ],\n",
       "       [0.82475489, 0.17524511],\n",
       "       [0.83705204, 0.16294796],\n",
       "       [0.83778994, 0.16221006],\n",
       "       [0.87142021, 0.12857979],\n",
       "       [0.84812474, 0.15187526],\n",
       "       [0.18562478, 0.81437522],\n",
       "       [0.3235654 , 0.6764346 ],\n",
       "       [0.20126949, 0.79873051],\n",
       "       [0.06322776, 0.93677224],\n",
       "       [0.35115395, 0.64884605],\n",
       "       [0.83782562, 0.16217438],\n",
       "       [0.02430386, 0.97569614],\n",
       "       [0.83774438, 0.16225562],\n",
       "       [0.83583599, 0.16416401],\n",
       "       [0.83781262, 0.16218738],\n",
       "       [0.13069526, 0.86930474],\n",
       "       [0.83721418, 0.16278582],\n",
       "       [0.33086406, 0.66913594],\n",
       "       [0.87198334, 0.12801666],\n",
       "       [0.06749774, 0.93250226],\n",
       "       [0.86287447, 0.13712553],\n",
       "       [0.83703013, 0.16296987],\n",
       "       [0.83783112, 0.16216888],\n",
       "       [0.13983093, 0.86016907],\n",
       "       [0.83364948, 0.16635052],\n",
       "       [0.83780589, 0.16219411],\n",
       "       [0.83703013, 0.16296987],\n",
       "       [0.83754848, 0.16245152],\n",
       "       [0.83724546, 0.16275454],\n",
       "       [0.84173466, 0.15826534],\n",
       "       [0.19053196, 0.80946804],\n",
       "       [0.09581095, 0.90418905],\n",
       "       [0.17132635, 0.82867365],\n",
       "       [0.12156018, 0.87843982],\n",
       "       [0.83813876, 0.16186124],\n",
       "       [0.83889246, 0.16110754],\n",
       "       [0.32727729, 0.67272271],\n",
       "       [0.8354136 , 0.1645864 ],\n",
       "       [0.1904375 , 0.8095625 ],\n",
       "       [0.10738233, 0.89261767],\n",
       "       [0.83916157, 0.16083843],\n",
       "       [0.06592305, 0.93407695],\n",
       "       [0.83798264, 0.16201736],\n",
       "       [0.83703013, 0.16296987],\n",
       "       [0.3454081 , 0.6545919 ],\n",
       "       [0.8377016 , 0.1622984 ],\n",
       "       [0.20917948, 0.79082052],\n",
       "       [0.83723328, 0.16276672],\n",
       "       [0.83772853, 0.16227147],\n",
       "       [0.83772347, 0.16227653],\n",
       "       [0.80622233, 0.19377767],\n",
       "       [0.79242586, 0.20757414],\n",
       "       [0.84885251, 0.15114749],\n",
       "       [0.83806849, 0.16193151],\n",
       "       [0.83777524, 0.16222476],\n",
       "       [0.83778279, 0.16221721],\n",
       "       [0.83742769, 0.16257231],\n",
       "       [0.37383111, 0.62616889],\n",
       "       [0.9624192 , 0.0375808 ],\n",
       "       [0.843996  , 0.156004  ],\n",
       "       [0.09445201, 0.90554799],\n",
       "       [0.72944242, 0.27055758],\n",
       "       [0.83584386, 0.16415614],\n",
       "       [0.8365296 , 0.1634704 ],\n",
       "       [0.94310315, 0.05689685],\n",
       "       [0.83827016, 0.16172984],\n",
       "       [0.83764727, 0.16235273],\n",
       "       [0.83643886, 0.16356114],\n",
       "       [0.86794911, 0.13205089],\n",
       "       [0.03530481, 0.96469519],\n",
       "       [0.83827805, 0.16172195],\n",
       "       [0.83804694, 0.16195306],\n",
       "       [0.49036906, 0.50963094],\n",
       "       [0.8671186 , 0.1328814 ],\n",
       "       [0.83784779, 0.16215221],\n",
       "       [0.11406133, 0.88593867],\n",
       "       [0.34107558, 0.65892442],\n",
       "       [0.8365296 , 0.1634704 ],\n",
       "       [0.28773398, 0.71226602],\n",
       "       [0.19056157, 0.80943843],\n",
       "       [0.06485226, 0.93514774],\n",
       "       [0.18189811, 0.81810189],\n",
       "       [0.83805432, 0.16194568],\n",
       "       [0.85480542, 0.14519458],\n",
       "       [0.45272297, 0.54727703],\n",
       "       [0.83902538, 0.16097462],\n",
       "       [0.97976248, 0.02023752],\n",
       "       [0.10832175, 0.89167825],\n",
       "       [0.33641653, 0.66358347],\n",
       "       [0.83789205, 0.16210795],\n",
       "       [0.83791418, 0.16208582],\n",
       "       [0.90005551, 0.09994449],\n",
       "       [0.83855898, 0.16144102],\n",
       "       [0.97815917, 0.02184083],\n",
       "       [0.09825586, 0.90174414],\n",
       "       [0.11043833, 0.88956167],\n",
       "       [0.76280043, 0.23719957],\n",
       "       [0.17898178, 0.82101822],\n",
       "       [0.07479324, 0.92520676],\n",
       "       [0.83731422, 0.16268578],\n",
       "       [0.62662283, 0.37337717],\n",
       "       [0.1240276 , 0.8759724 ],\n",
       "       [0.83703013, 0.16296987],\n",
       "       [0.13236205, 0.86763795],\n",
       "       [0.83663094, 0.16336906],\n",
       "       [0.12921492, 0.87078508],\n",
       "       [0.93517755, 0.06482245],\n",
       "       [0.82913345, 0.17086655],\n",
       "       [0.83718637, 0.16281363],\n",
       "       [0.86432725, 0.13567275],\n",
       "       [0.83641412, 0.16358588],\n",
       "       [0.38168343, 0.61831657],\n",
       "       [0.8735571 , 0.1264429 ],\n",
       "       [0.03258707, 0.96741293],\n",
       "       [0.83778022, 0.16221978],\n",
       "       [0.01596279, 0.98403721],\n",
       "       [0.3238477 , 0.6761523 ],\n",
       "       [0.83646507, 0.16353493],\n",
       "       [0.21536415, 0.78463585],\n",
       "       [0.18574095, 0.81425905],\n",
       "       [0.05638312, 0.94361688],\n",
       "       [0.62409547, 0.37590453],\n",
       "       [0.10868099, 0.89131901],\n",
       "       [0.83726422, 0.16273578],\n",
       "       [0.8373959 , 0.1626041 ],\n",
       "       [0.20050775, 0.79949225],\n",
       "       [0.83766687, 0.16233313],\n",
       "       [0.09415894, 0.90584106],\n",
       "       [0.83778762, 0.16221238],\n",
       "       [0.83312552, 0.16687448],\n",
       "       [0.83748194, 0.16251806],\n",
       "       [0.84089384, 0.15910616],\n",
       "       [0.20270724, 0.79729276],\n",
       "       [0.67038109, 0.32961891],\n",
       "       [0.83665435, 0.16334565],\n",
       "       [0.19046747, 0.80953253],\n",
       "       [0.87798718, 0.12201282],\n",
       "       [0.07541469, 0.92458531],\n",
       "       [0.83774438, 0.16225562],\n",
       "       [0.15678113, 0.84321887],\n",
       "       [0.83758149, 0.16241851],\n",
       "       [0.14862899, 0.85137101],\n",
       "       [0.83763244, 0.16236756],\n",
       "       [0.12732073, 0.87267927],\n",
       "       [0.1930054 , 0.8069946 ],\n",
       "       [0.83775299, 0.16224701],\n",
       "       [0.1905508 , 0.8094492 ],\n",
       "       [0.83427947, 0.16572053],\n",
       "       [0.8371726 , 0.1628274 ],\n",
       "       [0.84218436, 0.15781564],\n",
       "       [0.09600523, 0.90399477],\n",
       "       [0.89789763, 0.10210237],\n",
       "       [0.83702955, 0.16297045],\n",
       "       [0.75784042, 0.24215958],\n",
       "       [0.83753193, 0.16246807],\n",
       "       [0.7743872 , 0.2256128 ],\n",
       "       [0.83560495, 0.16439505],\n",
       "       [0.14192143, 0.85807857],\n",
       "       [0.07065077, 0.92934923],\n",
       "       [0.12955869, 0.87044131],\n",
       "       [0.19389353, 0.80610647],\n",
       "       [0.72420294, 0.27579706],\n",
       "       [0.83779239, 0.16220761],\n",
       "       [0.68058655, 0.31941345],\n",
       "       [0.82600336, 0.17399664],\n",
       "       [0.14534723, 0.85465277],\n",
       "       [0.90541339, 0.09458661],\n",
       "       [0.1904375 , 0.8095625 ],\n",
       "       [0.21979781, 0.78020219],\n",
       "       [0.04878872, 0.95121128],\n",
       "       [0.83714579, 0.16285421],\n",
       "       [0.79606301, 0.20393699],\n",
       "       [0.83742422, 0.16257578],\n",
       "       [0.83726187, 0.16273813],\n",
       "       [0.83212421, 0.16787579],\n",
       "       [0.83703013, 0.16296987],\n",
       "       [0.8377582 , 0.1622418 ],\n",
       "       [0.17233053, 0.82766947],\n",
       "       [0.83763661, 0.16236339],\n",
       "       [0.9040547 , 0.0959453 ],\n",
       "       [0.83762074, 0.16237926],\n",
       "       [0.09591109, 0.90408891],\n",
       "       [0.31913272, 0.68086728],\n",
       "       [0.84156425, 0.15843575],\n",
       "       [0.83778994, 0.16221006],\n",
       "       [0.83601674, 0.16398326],\n",
       "       [0.83212421, 0.16787579],\n",
       "       [0.35847062, 0.64152938],\n",
       "       [0.83700042, 0.16299958],\n",
       "       [0.83735305, 0.16264695],\n",
       "       [0.83703013, 0.16296987],\n",
       "       [0.08886895, 0.91113105],\n",
       "       [0.19032366, 0.80967634],\n",
       "       [0.83856075, 0.16143925],\n",
       "       [0.18993026, 0.81006974],\n",
       "       [0.83769424, 0.16230576],\n",
       "       [0.86546364, 0.13453636],\n",
       "       [0.85382131, 0.14617869],\n",
       "       [0.83758816, 0.16241184],\n",
       "       [0.3400863 , 0.6599137 ],\n",
       "       [0.12783442, 0.87216558],\n",
       "       [0.1905508 , 0.8094492 ],\n",
       "       [0.16248464, 0.83751536],\n",
       "       [0.34730993, 0.65269007],\n",
       "       [0.87949153, 0.12050847],\n",
       "       [0.83741251, 0.16258749],\n",
       "       [0.84523447, 0.15476553],\n",
       "       [0.83855898, 0.16144102],\n",
       "       [0.86336273, 0.13663727],\n",
       "       [0.8372183 , 0.1627817 ],\n",
       "       [0.1916223 , 0.8083777 ],\n",
       "       [0.83855898, 0.16144102],\n",
       "       [0.79851469, 0.20148531],\n",
       "       [0.83724585, 0.16275415],\n",
       "       [0.8377996 , 0.1622004 ],\n",
       "       [0.04680027, 0.95319973],\n",
       "       [0.83698986, 0.16301014],\n",
       "       [0.83762771, 0.16237229],\n",
       "       [0.83780753, 0.16219247],\n",
       "       [0.83780934, 0.16219066],\n",
       "       [0.83967644, 0.16032356],\n",
       "       [0.89944932, 0.10055068],\n",
       "       [0.83758237, 0.16241763],\n",
       "       [0.1905508 , 0.8094492 ],\n",
       "       [0.07642292, 0.92357708],\n",
       "       [0.83451105, 0.16548895],\n",
       "       [0.06274331, 0.93725669],\n",
       "       [0.84625605, 0.15374395],\n",
       "       [0.37604839, 0.62395161],\n",
       "       [0.83715491, 0.16284509],\n",
       "       [0.83638387, 0.16361613],\n",
       "       [0.83788467, 0.16211533],\n",
       "       [0.20443363, 0.79556637],\n",
       "       [0.11665541, 0.88334459],\n",
       "       [0.16863617, 0.83136383],\n",
       "       [0.78040122, 0.21959878],\n",
       "       [0.83733792, 0.16266208],\n",
       "       [0.8378148 , 0.1621852 ],\n",
       "       [0.85570712, 0.14429288],\n",
       "       [0.83783112, 0.16216888],\n",
       "       [0.8373611 , 0.1626389 ],\n",
       "       [0.83742769, 0.16257231],\n",
       "       [0.83633918, 0.16366082],\n",
       "       [0.09860656, 0.90139344],\n",
       "       [0.8375679 , 0.1624321 ],\n",
       "       [0.20698396, 0.79301604],\n",
       "       [0.83726292, 0.16273708],\n",
       "       [0.86332948, 0.13667052],\n",
       "       [0.83740496, 0.16259504],\n",
       "       [0.14645631, 0.85354369],\n",
       "       [0.83923575, 0.16076425],\n",
       "       [0.83856075, 0.16143925],\n",
       "       [0.15865771, 0.84134229],\n",
       "       [0.83780352, 0.16219648],\n",
       "       [0.83640356, 0.16359644],\n",
       "       [0.83725308, 0.16274692],\n",
       "       [0.94452842, 0.05547158],\n",
       "       [0.83678926, 0.16321074],\n",
       "       [0.13236439, 0.86763561],\n",
       "       [0.83415579, 0.16584421],\n",
       "       [0.83787044, 0.16212956],\n",
       "       [0.64029543, 0.35970457],\n",
       "       [0.093988  , 0.906012  ],\n",
       "       [0.70343035, 0.29656965],\n",
       "       [0.31663177, 0.68336823],\n",
       "       [0.83742769, 0.16257231],\n",
       "       [0.20608121, 0.79391879],\n",
       "       [0.83741113, 0.16258887],\n",
       "       [0.18311908, 0.81688092],\n",
       "       [0.05894998, 0.94105002],\n",
       "       [0.83768683, 0.16231317],\n",
       "       [0.84002095, 0.15997905],\n",
       "       [0.9399998 , 0.0600002 ],\n",
       "       [0.28701055, 0.71298945],\n",
       "       [0.83712844, 0.16287156],\n",
       "       [0.05817529, 0.94182471],\n",
       "       [0.83779484, 0.16220516],\n",
       "       [0.83703013, 0.16296987],\n",
       "       [0.35922066, 0.64077934],\n",
       "       [0.80621396, 0.19378604],\n",
       "       [0.10524093, 0.89475907],\n",
       "       [0.10128666, 0.89871334],\n",
       "       [0.83759555, 0.16240445],\n",
       "       [0.0663418 , 0.9336582 ],\n",
       "       [0.57216012, 0.42783988],\n",
       "       [0.84812437, 0.15187563],\n",
       "       [0.30307392, 0.69692608],\n",
       "       [0.05850518, 0.94149482],\n",
       "       [0.83751936, 0.16248064],\n",
       "       [0.85584451, 0.14415549],\n",
       "       [0.08195642, 0.91804358],\n",
       "       [0.83711037, 0.16288963],\n",
       "       [0.83730415, 0.16269585],\n",
       "       [0.07549219, 0.92450781],\n",
       "       [0.10157396, 0.89842604],\n",
       "       [0.62444713, 0.37555287],\n",
       "       [0.83747569, 0.16252431],\n",
       "       [0.838748  , 0.161252  ],\n",
       "       [0.86440263, 0.13559737],\n",
       "       [0.83703013, 0.16296987],\n",
       "       [0.83734807, 0.16265193],\n",
       "       [0.21021658, 0.78978342],\n",
       "       [0.34552538, 0.65447462],\n",
       "       [0.83459212, 0.16540788],\n",
       "       [0.25499469, 0.74500531],\n",
       "       [0.83779413, 0.16220587],\n",
       "       [0.83776054, 0.16223946],\n",
       "       [0.83780148, 0.16219852],\n",
       "       [0.81109144, 0.18890856],\n",
       "       [0.84883982, 0.15116018],\n",
       "       [0.09046701, 0.90953299],\n",
       "       [0.11166657, 0.88833343],\n",
       "       [0.84479436, 0.15520564],\n",
       "       [0.97199058, 0.02800942],\n",
       "       [0.12781714, 0.87218286],\n",
       "       [0.83751972, 0.16248028],\n",
       "       [0.03126683, 0.96873317],\n",
       "       [0.83770605, 0.16229395],\n",
       "       [0.83694593, 0.16305407],\n",
       "       [0.09935267, 0.90064733],\n",
       "       [0.86456984, 0.13543016],\n",
       "       [0.02852969, 0.97147031],\n",
       "       [0.84135741, 0.15864259],\n",
       "       [0.74981143, 0.25018857],\n",
       "       [0.83693031, 0.16306969],\n",
       "       [0.85677618, 0.14322382],\n",
       "       [0.78912307, 0.21087693],\n",
       "       [0.19056964, 0.80943036],\n",
       "       [0.31318957, 0.68681043],\n",
       "       [0.1905508 , 0.8094492 ],\n",
       "       [0.12423303, 0.87576697],\n",
       "       [0.35335001, 0.64664999],\n",
       "       [0.86336273, 0.13663727],\n",
       "       [0.1247434 , 0.8752566 ],\n",
       "       [0.83691623, 0.16308377],\n",
       "       [0.83774438, 0.16225562],\n",
       "       [0.18772144, 0.81227856]])"
      ]
     },
     "execution_count": 82,
     "metadata": {},
     "output_type": "execute_result"
    }
   ],
   "source": [
    "svc1.predict_proba(df_test[features])"
   ]
  },
  {
   "cell_type": "code",
   "execution_count": 83,
   "id": "d2f67d33",
   "metadata": {},
   "outputs": [],
   "source": [
    "# Calculando a média geométrica entre as probabilidades de cada clase ser igual a 0\n",
    "\n",
    "MG_probs = (svc1.predict_proba(df_test[features])[: , 0]*svc2.predict_proba(df_test[features])[: , 0])**(1/2)"
   ]
  },
  {
   "cell_type": "code",
   "execution_count": 84,
   "id": "9ef7a2c8",
   "metadata": {},
   "outputs": [],
   "source": [
    "# Calculando as predições ao misturamos os modelos\n",
    "\n",
    "predições = []\n",
    "for p in MG_probs :\n",
    "    if p > 0.5 :\n",
    "        predições.append(0)\n",
    "    else :\n",
    "        predições.append(1)"
   ]
  },
  {
   "cell_type": "markdown",
   "id": "738ee788",
   "metadata": {},
   "source": [
    "#### 4.5.1 Submetendo ao Kaggle"
   ]
  },
  {
   "cell_type": "code",
   "execution_count": 85,
   "id": "4268aa36",
   "metadata": {},
   "outputs": [],
   "source": [
    "# Criando a coluna Survived no Dataframe de teste\n",
    "\n",
    "df_test['Survived'] = predições"
   ]
  },
  {
   "cell_type": "code",
   "execution_count": 86,
   "id": "abe6e055",
   "metadata": {},
   "outputs": [],
   "source": [
    "# Enviando as predições ao Kaggle\n",
    "\n",
    "df_test[['PassengerId' , 'Survived']].to_csv('predições.csv' , index = False)"
   ]
  },
  {
   "cell_type": "code",
   "execution_count": 87,
   "id": "e976bb02",
   "metadata": {},
   "outputs": [
    {
     "data": {
      "image/png": "[encoded data removed]",
      "text/plain": [
       "<IPython.core.display.Image object>"
      ]
     },
     "execution_count": 87,
     "metadata": {},
     "output_type": "execute_result"
    }
   ],
   "source": [
    "Image('predições.png')"
   ]
  },
  {
   "cell_type": "markdown",
   "id": "fd1565fd",
   "metadata": {},
   "source": [
    "Misturar os modelos gerou o mesmo score no Kaggle que fazer uso do Stacking Classifier !"
   ]
  },
  {
   "cell_type": "markdown",
   "id": "3c719f54",
   "metadata": {},
   "source": [
    "## <center>5. Comentários finais<center>"
   ]
  },
  {
   "cell_type": "markdown",
   "id": "736bf75d",
   "metadata": {},
   "source": [
    "<p style='text-align: justify;'>Ao longo desse projeto fizemos todo um trabalho de pré-processamento dos dados (tratamento de valores ausentes, dimensionamento de variáveis) , utilizamos engenharia de features para lidarmos com variáveis categóricas e para criarmos novas variáveis importantes para prever a sobrevivência e fizemos a modelagem através de diferentes algoritmos de Machine Learning . Após descobrirmos a acurácia de vários modelos decidimos pelo SVC e otimizamos os seus parâmetros através de pesquisa de grade. Por fim utilizamos alguns métodos de aprendizagem conjunta para melhorar a perfomance do nosso modelo como Stacking e mistura de modelos. Claro que ainda existem muitas maneiras de melhorarmos ainda mais a performance do nosso modelo : Criação de novas features, treinamento de modelos diferentes para tentar um novo Stacking ou uma nova mistura, etc . Por fim saliento que essa foi apenas uma abordagem do dataset do Titanic. Inúmeras são as possibilidades de tratar esses dados seja escolhendo modelos diferentes ou criando features distintas. "
   ]
  }
 ],
 "metadata": {
  "kernelspec": {
   "display_name": "Python 3 (ipykernel)",
   "language": "python",
   "name": "python3"
  },
  "language_info": {
   "codemirror_mode": {
    "name": "ipython",
    "version": 3
   },
   "file_extension": ".py",
   "mimetype": "text/x-python",
   "name": "python",
   "nbconvert_exporter": "python",
   "pygments_lexer": "ipython3",
   "version": "3.9.7"
  }
 },
 "nbformat": 4,
 "nbformat_minor": 5
}
